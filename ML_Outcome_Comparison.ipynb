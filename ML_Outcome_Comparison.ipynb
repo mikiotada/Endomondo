{
 "cells": [
  {
   "cell_type": "markdown",
   "metadata": {},
   "source": [
    "# Random Forest with Spark ML"
   ]
  },
  {
   "cell_type": "code",
   "execution_count": 1,
   "metadata": {},
   "outputs": [
    {
     "data": {
      "application/vnd.jupyter.widget-view+json": {
       "model_id": "3b670fff29904aaca48420d58f8d51a6",
       "version_major": 2,
       "version_minor": 0
      },
      "text/plain": [
       "VBox()"
      ]
     },
     "metadata": {},
     "output_type": "display_data"
    },
    {
     "name": "stdout",
     "output_type": "stream",
     "text": [
      "Starting Spark application\n"
     ]
    },
    {
     "data": {
      "text/html": [
       "<table>\n",
       "<tr><th>ID</th><th>YARN Application ID</th><th>Kind</th><th>State</th><th>Spark UI</th><th>Driver log</th><th>Current session?</th></tr><tr><td>4</td><td>application_1579223218365_0005</td><td>pyspark</td><td>idle</td><td><a target=\"_blank\" href=\"http://ip-172-31-13-122.us-west-2.compute.internal:20888/proxy/application_1579223218365_0005/\">Link</a></td><td><a target=\"_blank\" href=\"http://ip-172-31-0-248.us-west-2.compute.internal:8042/node/containerlogs/container_1579223218365_0005_01_000001/livy\">Link</a></td><td>✔</td></tr></table>"
      ],
      "text/plain": [
       "<IPython.core.display.HTML object>"
      ]
     },
     "metadata": {},
     "output_type": "display_data"
    },
    {
     "data": {
      "application/vnd.jupyter.widget-view+json": {
       "model_id": "",
       "version_major": 2,
       "version_minor": 0
      },
      "text/plain": [
       "FloatProgress(value=0.0, bar_style='info', description='Progress:', layout=Layout(height='25px', width='50%'),…"
      ]
     },
     "metadata": {},
     "output_type": "display_data"
    },
    {
     "name": "stdout",
     "output_type": "stream",
     "text": [
      "SparkSession available as 'spark'.\n"
     ]
    },
    {
     "data": {
      "application/vnd.jupyter.widget-view+json": {
       "model_id": "",
       "version_major": 2,
       "version_minor": 0
      },
      "text/plain": [
       "FloatProgress(value=0.0, bar_style='info', description='Progress:', layout=Layout(height='25px', width='50%'),…"
      ]
     },
     "metadata": {},
     "output_type": "display_data"
    }
   ],
   "source": [
    "from pyspark import SparkContext\n",
    "from pyspark.sql import SparkSession\n",
    "\n",
    "sc = SparkContext.getOrCreate()\n",
    "ss = SparkSession.builder.getOrCreate()"
   ]
  },
  {
   "cell_type": "code",
   "execution_count": 2,
   "metadata": {},
   "outputs": [
    {
     "data": {
      "application/vnd.jupyter.widget-view+json": {
       "model_id": "f89dd740478041399a0576cac5a48573",
       "version_major": 2,
       "version_minor": 0
      },
      "text/plain": [
       "VBox()"
      ]
     },
     "metadata": {},
     "output_type": "display_data"
    },
    {
     "data": {
      "application/vnd.jupyter.widget-view+json": {
       "model_id": "",
       "version_major": 2,
       "version_minor": 0
      },
      "text/plain": [
       "FloatProgress(value=0.0, bar_style='info', description='Progress:', layout=Layout(height='25px', width='50%'),…"
      ]
     },
     "metadata": {},
     "output_type": "display_data"
    }
   ],
   "source": [
    "from pyspark.sql import SQLContext\n",
    "sqlContext = SQLContext(sc)\n",
    "data = sqlContext.read.format('parquet').load(\"s3://usfca-endomondo/processed_data\") "
   ]
  },
  {
   "cell_type": "code",
   "execution_count": 3,
   "metadata": {},
   "outputs": [
    {
     "data": {
      "application/vnd.jupyter.widget-view+json": {
       "model_id": "ae11710296f945a1a048e8cd8a690c7f",
       "version_major": 2,
       "version_minor": 0
      },
      "text/plain": [
       "VBox()"
      ]
     },
     "metadata": {},
     "output_type": "display_data"
    },
    {
     "data": {
      "application/vnd.jupyter.widget-view+json": {
       "model_id": "",
       "version_major": 2,
       "version_minor": 0
      },
      "text/plain": [
       "FloatProgress(value=0.0, bar_style='info', description='Progress:', layout=Layout(height='25px', width='50%'),…"
      ]
     },
     "metadata": {},
     "output_type": "display_data"
    }
   ],
   "source": [
    "data = data.drop(\"timestamp\", \"id\")"
   ]
  },
  {
   "cell_type": "code",
   "execution_count": 4,
   "metadata": {},
   "outputs": [
    {
     "data": {
      "application/vnd.jupyter.widget-view+json": {
       "model_id": "4cb6de07a06047b1b8aad92e2028e2a2",
       "version_major": 2,
       "version_minor": 0
      },
      "text/plain": [
       "VBox()"
      ]
     },
     "metadata": {},
     "output_type": "display_data"
    },
    {
     "data": {
      "application/vnd.jupyter.widget-view+json": {
       "model_id": "",
       "version_major": 2,
       "version_minor": 0
      },
      "text/plain": [
       "FloatProgress(value=0.0, bar_style='info', description='Progress:', layout=Layout(height='25px', width='50%'),…"
      ]
     },
     "metadata": {},
     "output_type": "display_data"
    }
   ],
   "source": [
    "from pyspark.ml.feature import StringIndexer\n",
    "def indexStringColumns(df, cols):\n",
    "\n",
    "    newdf = df\n",
    "    \n",
    "    for c in cols:\n",
    "   \n",
    "        si = StringIndexer(inputCol=c, outputCol=c+\"-num\")\n",
    "        sm = si.fit(newdf)\n",
    "        newdf = sm.transform(newdf).drop(c)\n",
    "        newdf = newdf.withColumnRenamed(c+\"-num\", c)\n",
    "    return newdf"
   ]
  },
  {
   "cell_type": "code",
   "execution_count": 5,
   "metadata": {},
   "outputs": [
    {
     "data": {
      "application/vnd.jupyter.widget-view+json": {
       "model_id": "55167a1ab90b41babbe0161455f9295f",
       "version_major": 2,
       "version_minor": 0
      },
      "text/plain": [
       "VBox()"
      ]
     },
     "metadata": {},
     "output_type": "display_data"
    },
    {
     "data": {
      "application/vnd.jupyter.widget-view+json": {
       "model_id": "",
       "version_major": 2,
       "version_minor": 0
      },
      "text/plain": [
       "FloatProgress(value=0.0, bar_style='info', description='Progress:', layout=Layout(height='25px', width='50%'),…"
      ]
     },
     "metadata": {},
     "output_type": "display_data"
    }
   ],
   "source": [
    "data = indexStringColumns(data, [\"gender\", \"sport\"])"
   ]
  },
  {
   "cell_type": "code",
   "execution_count": 7,
   "metadata": {},
   "outputs": [
    {
     "data": {
      "application/vnd.jupyter.widget-view+json": {
       "model_id": "180f57cfde184486b1c3f181f0860cde",
       "version_major": 2,
       "version_minor": 0
      },
      "text/plain": [
       "VBox()"
      ]
     },
     "metadata": {},
     "output_type": "display_data"
    },
    {
     "data": {
      "application/vnd.jupyter.widget-view+json": {
       "model_id": "",
       "version_major": 2,
       "version_minor": 0
      },
      "text/plain": [
       "FloatProgress(value=0.0, bar_style='info', description='Progress:', layout=Layout(height='25px', width='50%'),…"
      ]
     },
     "metadata": {},
     "output_type": "display_data"
    }
   ],
   "source": [
    "from pyspark.ml.feature import OneHotEncoder\n",
    "def oneHotEncodeColumns(df, cols):\n",
    "    newdf = df\n",
    "    for c in cols:\n",
    "        onehotenc = OneHotEncoder(inputCol=c, outputCol=c+\"-onehot\", dropLast=False)\n",
    "        newdf = onehotenc.transform(newdf).drop(c)\n",
    "        newdf = newdf.withColumnRenamed(c+\"-onehot\", c)\n",
    "    return newdf"
   ]
  },
  {
   "cell_type": "code",
   "execution_count": 8,
   "metadata": {},
   "outputs": [
    {
     "data": {
      "application/vnd.jupyter.widget-view+json": {
       "model_id": "5ebbf3d310bb464ea2d847f66d29f5a0",
       "version_major": 2,
       "version_minor": 0
      },
      "text/plain": [
       "VBox()"
      ]
     },
     "metadata": {},
     "output_type": "display_data"
    },
    {
     "data": {
      "application/vnd.jupyter.widget-view+json": {
       "model_id": "",
       "version_major": 2,
       "version_minor": 0
      },
      "text/plain": [
       "FloatProgress(value=0.0, bar_style='info', description='Progress:', layout=Layout(height='25px', width='50%'),…"
      ]
     },
     "metadata": {},
     "output_type": "display_data"
    }
   ],
   "source": [
    "data = oneHotEncodeColumns(data, [\"gender\"])"
   ]
  },
  {
   "cell_type": "code",
   "execution_count": 8,
   "metadata": {},
   "outputs": [
    {
     "data": {
      "application/vnd.jupyter.widget-view+json": {
       "model_id": "8bff4ef1c5f648be9c0dbcce62c8bba6",
       "version_major": 2,
       "version_minor": 0
      },
      "text/plain": [
       "VBox()"
      ]
     },
     "metadata": {},
     "output_type": "display_data"
    },
    {
     "data": {
      "application/vnd.jupyter.widget-view+json": {
       "model_id": "",
       "version_major": 2,
       "version_minor": 0
      },
      "text/plain": [
       "FloatProgress(value=0.0, bar_style='info', description='Progress:', layout=Layout(height='25px', width='50%'),…"
      ]
     },
     "metadata": {},
     "output_type": "display_data"
    }
   ],
   "source": [
    "from pyspark.ml.feature import VectorAssembler\n",
    "input_cols=[\"miles\",\"avg_heart\",\"var_heart\",\"std_heart\",\"min_alt\",\"max_alt\",\"avg_alt\",\"var_alt\",\"std_alt\",\"gender\"]\n",
    "\n",
    "va = VectorAssembler(outputCol=\"features\", inputCols=input_cols)\n",
    "data = va.transform(data).select(\"features\", \"sport\").withColumnRenamed(\"sport\", \"label\")"
   ]
  },
  {
   "cell_type": "code",
   "execution_count": 9,
   "metadata": {},
   "outputs": [
    {
     "data": {
      "application/vnd.jupyter.widget-view+json": {
       "model_id": "f2ca3a66347948358fc2b4f1104bcd73",
       "version_major": 2,
       "version_minor": 0
      },
      "text/plain": [
       "VBox()"
      ]
     },
     "metadata": {},
     "output_type": "display_data"
    },
    {
     "data": {
      "application/vnd.jupyter.widget-view+json": {
       "model_id": "",
       "version_major": 2,
       "version_minor": 0
      },
      "text/plain": [
       "FloatProgress(value=0.0, bar_style='info', description='Progress:', layout=Layout(height='25px', width='50%'),…"
      ]
     },
     "metadata": {},
     "output_type": "display_data"
    }
   ],
   "source": [
    "data = data.randomSplit([0.8, 0.2], seed=1)\n",
    "train = data[0].cache()\n",
    "test = data[1].cache()"
   ]
  },
  {
   "cell_type": "code",
   "execution_count": 10,
   "metadata": {},
   "outputs": [
    {
     "data": {
      "application/vnd.jupyter.widget-view+json": {
       "model_id": "e7dfdbf7c5304e8982efd29aa2a0aa72",
       "version_major": 2,
       "version_minor": 0
      },
      "text/plain": [
       "VBox()"
      ]
     },
     "metadata": {},
     "output_type": "display_data"
    },
    {
     "data": {
      "application/vnd.jupyter.widget-view+json": {
       "model_id": "",
       "version_major": 2,
       "version_minor": 0
      },
      "text/plain": [
       "FloatProgress(value=0.0, bar_style='info', description='Progress:', layout=Layout(height='25px', width='50%'),…"
      ]
     },
     "metadata": {},
     "output_type": "display_data"
    }
   ],
   "source": [
    "from pyspark.ml.classification import RandomForestClassifier\n",
    "from pyspark.ml.evaluation import MulticlassClassificationEvaluator\n",
    "from pyspark.ml.tuning import CrossValidator\n",
    "from pyspark.ml.tuning import ParamGridBuilder\n",
    "\n",
    "rf = RandomForestClassifier()\n",
    "evaluator = MulticlassClassificationEvaluator()"
   ]
  },
  {
   "cell_type": "code",
   "execution_count": 11,
   "metadata": {},
   "outputs": [
    {
     "data": {
      "application/vnd.jupyter.widget-view+json": {
       "model_id": "da0e36f353bc41e4b23c8c02c2217264",
       "version_major": 2,
       "version_minor": 0
      },
      "text/plain": [
       "VBox()"
      ]
     },
     "metadata": {},
     "output_type": "display_data"
    },
    {
     "data": {
      "application/vnd.jupyter.widget-view+json": {
       "model_id": "",
       "version_major": 2,
       "version_minor": 0
      },
      "text/plain": [
       "FloatProgress(value=0.0, bar_style='info', description='Progress:', layout=Layout(height='25px', width='50%'),…"
      ]
     },
     "metadata": {},
     "output_type": "display_data"
    }
   ],
   "source": [
    "paramGrid = ParamGridBuilder().addGrid(rf.maxDepth, [25]).build()\n",
    "cv = CrossValidator(estimator=rf, evaluator=evaluator, numFolds=5, estimatorParamMaps=paramGrid)\n",
    "rfmodel = cv.fit(train)"
   ]
  },
  {
   "cell_type": "code",
   "execution_count": 12,
   "metadata": {},
   "outputs": [
    {
     "data": {
      "application/vnd.jupyter.widget-view+json": {
       "model_id": "7cc3fe088eed4f03a3fecc2113020fe3",
       "version_major": 2,
       "version_minor": 0
      },
      "text/plain": [
       "VBox()"
      ]
     },
     "metadata": {},
     "output_type": "display_data"
    },
    {
     "data": {
      "application/vnd.jupyter.widget-view+json": {
       "model_id": "",
       "version_major": 2,
       "version_minor": 0
      },
      "text/plain": [
       "FloatProgress(value=0.0, bar_style='info', description='Progress:', layout=Layout(height='25px', width='50%'),…"
      ]
     },
     "metadata": {},
     "output_type": "display_data"
    },
    {
     "name": "stdout",
     "output_type": "stream",
     "text": [
      "MulticlassClassificationEvaluator_732b9207acbf"
     ]
    }
   ],
   "source": [
    "test_predicts = rfmodel.transform(test)\n",
    "metrics =  MulticlassClassificationEvaluator().setLabelCol('label').setPredictionCol('prediction')\n",
    "metrics.setMetricName(\"f1\")"
   ]
  },
  {
   "cell_type": "code",
   "execution_count": 14,
   "metadata": {},
   "outputs": [
    {
     "data": {
      "application/vnd.jupyter.widget-view+json": {
       "model_id": "82b5379eba5a4cd2960a8fc8065cf1e4",
       "version_major": 2,
       "version_minor": 0
      },
      "text/plain": [
       "VBox()"
      ]
     },
     "metadata": {},
     "output_type": "display_data"
    },
    {
     "data": {
      "application/vnd.jupyter.widget-view+json": {
       "model_id": "",
       "version_major": 2,
       "version_minor": 0
      },
      "text/plain": [
       "FloatProgress(value=0.0, bar_style='info', description='Progress:', layout=Layout(height='25px', width='50%'),…"
      ]
     },
     "metadata": {},
     "output_type": "display_data"
    },
    {
     "name": "stdout",
     "output_type": "stream",
     "text": [
      "F1 : 0.9903957406150332"
     ]
    }
   ],
   "source": [
    "train_predicts = rfmodel.transform(train)\n",
    "print(\"F1 : %s\" % metrics.evaluate(train_predicts))"
   ]
  },
  {
   "cell_type": "code",
   "execution_count": 13,
   "metadata": {},
   "outputs": [
    {
     "data": {
      "application/vnd.jupyter.widget-view+json": {
       "model_id": "d43574a15aef416cae80b21551891b5f",
       "version_major": 2,
       "version_minor": 0
      },
      "text/plain": [
       "VBox()"
      ]
     },
     "metadata": {},
     "output_type": "display_data"
    },
    {
     "data": {
      "application/vnd.jupyter.widget-view+json": {
       "model_id": "",
       "version_major": 2,
       "version_minor": 0
      },
      "text/plain": [
       "FloatProgress(value=0.0, bar_style='info', description='Progress:', layout=Layout(height='25px', width='50%'),…"
      ]
     },
     "metadata": {},
     "output_type": "display_data"
    },
    {
     "name": "stdout",
     "output_type": "stream",
     "text": [
      "F1 : 0.7927766523480106"
     ]
    }
   ],
   "source": [
    "print(\"F1 : %s\" % metrics.evaluate(test_predicts))"
   ]
  },
  {
   "cell_type": "markdown",
   "metadata": {},
   "source": [
    "# Logistic Regression with Spark ML"
   ]
  },
  {
   "cell_type": "code",
   "execution_count": 16,
   "metadata": {},
   "outputs": [
    {
     "data": {
      "application/vnd.jupyter.widget-view+json": {
       "model_id": "ccfc772136c84159916430ef634c3413",
       "version_major": 2,
       "version_minor": 0
      },
      "text/plain": [
       "VBox()"
      ]
     },
     "metadata": {},
     "output_type": "display_data"
    },
    {
     "data": {
      "application/vnd.jupyter.widget-view+json": {
       "model_id": "",
       "version_major": 2,
       "version_minor": 0
      },
      "text/plain": [
       "FloatProgress(value=0.0, bar_style='info', description='Progress:', layout=Layout(height='25px', width='50%'),…"
      ]
     },
     "metadata": {},
     "output_type": "display_data"
    }
   ],
   "source": [
    "data_df = ss.read.parquet('s3://usfca-endomondo/processed_data')\n",
    "data_df = data_df.drop('timestamp', 'id')\n",
    "from pyspark.ml.feature import StringIndexer"
   ]
  },
  {
   "cell_type": "code",
   "execution_count": 17,
   "metadata": {},
   "outputs": [
    {
     "data": {
      "application/vnd.jupyter.widget-view+json": {
       "model_id": "b64b9f4cc4ef4dc8b2dbee96f0bce001",
       "version_major": 2,
       "version_minor": 0
      },
      "text/plain": [
       "VBox()"
      ]
     },
     "metadata": {},
     "output_type": "display_data"
    },
    {
     "data": {
      "application/vnd.jupyter.widget-view+json": {
       "model_id": "",
       "version_major": 2,
       "version_minor": 0
      },
      "text/plain": [
       "FloatProgress(value=0.0, bar_style='info', description='Progress:', layout=Layout(height='25px', width='50%'),…"
      ]
     },
     "metadata": {},
     "output_type": "display_data"
    }
   ],
   "source": [
    "data_df = indexStringColumns(data_df, [\"gender\", \"sport\"])"
   ]
  },
  {
   "cell_type": "code",
   "execution_count": 18,
   "metadata": {},
   "outputs": [
    {
     "data": {
      "application/vnd.jupyter.widget-view+json": {
       "model_id": "ebb6ae3cf92d45b1a8e01cdf58eb9ae8",
       "version_major": 2,
       "version_minor": 0
      },
      "text/plain": [
       "VBox()"
      ]
     },
     "metadata": {},
     "output_type": "display_data"
    },
    {
     "data": {
      "application/vnd.jupyter.widget-view+json": {
       "model_id": "",
       "version_major": 2,
       "version_minor": 0
      },
      "text/plain": [
       "FloatProgress(value=0.0, bar_style='info', description='Progress:', layout=Layout(height='25px', width='50%'),…"
      ]
     },
     "metadata": {},
     "output_type": "display_data"
    }
   ],
   "source": [
    "data_df = oneHotEncodeColumns(data_df, [\"gender\"])"
   ]
  },
  {
   "cell_type": "code",
   "execution_count": 19,
   "metadata": {},
   "outputs": [
    {
     "data": {
      "application/vnd.jupyter.widget-view+json": {
       "model_id": "1c255f70403549d697362822dbd64f7e",
       "version_major": 2,
       "version_minor": 0
      },
      "text/plain": [
       "VBox()"
      ]
     },
     "metadata": {},
     "output_type": "display_data"
    },
    {
     "data": {
      "application/vnd.jupyter.widget-view+json": {
       "model_id": "",
       "version_major": 2,
       "version_minor": 0
      },
      "text/plain": [
       "FloatProgress(value=0.0, bar_style='info', description='Progress:', layout=Layout(height='25px', width='50%'),…"
      ]
     },
     "metadata": {},
     "output_type": "display_data"
    }
   ],
   "source": [
    "label_col = 'sport'\n",
    "input_cols = data_df.columns\n",
    "input_cols.remove(label_col)"
   ]
  },
  {
   "cell_type": "code",
   "execution_count": 20,
   "metadata": {},
   "outputs": [
    {
     "data": {
      "application/vnd.jupyter.widget-view+json": {
       "model_id": "f6c4fa31924149a2bade4d1666267587",
       "version_major": 2,
       "version_minor": 0
      },
      "text/plain": [
       "VBox()"
      ]
     },
     "metadata": {},
     "output_type": "display_data"
    },
    {
     "data": {
      "application/vnd.jupyter.widget-view+json": {
       "model_id": "",
       "version_major": 2,
       "version_minor": 0
      },
      "text/plain": [
       "FloatProgress(value=0.0, bar_style='info', description='Progress:', layout=Layout(height='25px', width='50%'),…"
      ]
     },
     "metadata": {},
     "output_type": "display_data"
    }
   ],
   "source": [
    "from pyspark.ml.feature import VectorAssembler\n",
    "label_col = 'sport'\n",
    "input_cols = data_df.columns\n",
    "input_cols.remove(label_col)"
   ]
  },
  {
   "cell_type": "code",
   "execution_count": 21,
   "metadata": {},
   "outputs": [
    {
     "data": {
      "application/vnd.jupyter.widget-view+json": {
       "model_id": "404e6f4a494d4b0fadde6e654bab3b3a",
       "version_major": 2,
       "version_minor": 0
      },
      "text/plain": [
       "VBox()"
      ]
     },
     "metadata": {},
     "output_type": "display_data"
    },
    {
     "data": {
      "application/vnd.jupyter.widget-view+json": {
       "model_id": "",
       "version_major": 2,
       "version_minor": 0
      },
      "text/plain": [
       "FloatProgress(value=0.0, bar_style='info', description='Progress:', layout=Layout(height='25px', width='50%'),…"
      ]
     },
     "metadata": {},
     "output_type": "display_data"
    },
    {
     "name": "stdout",
     "output_type": "stream",
     "text": [
      "DataFrame[features: vector, label: double]"
     ]
    }
   ],
   "source": [
    "va = VectorAssembler(outputCol=\"features\", inputCols=input_cols)\n",
    "data_df = va.transform(data_df).select('features', 'sport').withColumnRenamed('sport', 'label')\n",
    "data_df_train, data_df_test = data_df.randomSplit([0.8, 0.2])\n",
    "data_df_train.cache()\n",
    "data_df_test.cache()"
   ]
  },
  {
   "cell_type": "code",
   "execution_count": 22,
   "metadata": {},
   "outputs": [
    {
     "data": {
      "application/vnd.jupyter.widget-view+json": {
       "model_id": "51028d6aff5d46eda8457f1b6d7fd9ed",
       "version_major": 2,
       "version_minor": 0
      },
      "text/plain": [
       "VBox()"
      ]
     },
     "metadata": {},
     "output_type": "display_data"
    },
    {
     "data": {
      "application/vnd.jupyter.widget-view+json": {
       "model_id": "",
       "version_major": 2,
       "version_minor": 0
      },
      "text/plain": [
       "FloatProgress(value=0.0, bar_style='info', description='Progress:', layout=Layout(height='25px', width='50%'),…"
      ]
     },
     "metadata": {},
     "output_type": "display_data"
    }
   ],
   "source": [
    "from pyspark.ml.tuning import CrossValidator\n",
    "from pyspark.ml.tuning import ParamGridBuilder\n",
    "from pyspark.ml.evaluation import MulticlassClassificationEvaluator\n",
    "from pyspark.ml.classification import LogisticRegression"
   ]
  },
  {
   "cell_type": "code",
   "execution_count": 23,
   "metadata": {},
   "outputs": [
    {
     "data": {
      "application/vnd.jupyter.widget-view+json": {
       "model_id": "20b1632f44814f808dc5c1be588a3ca9",
       "version_major": 2,
       "version_minor": 0
      },
      "text/plain": [
       "VBox()"
      ]
     },
     "metadata": {},
     "output_type": "display_data"
    },
    {
     "data": {
      "application/vnd.jupyter.widget-view+json": {
       "model_id": "",
       "version_major": 2,
       "version_minor": 0
      },
      "text/plain": [
       "FloatProgress(value=0.0, bar_style='info', description='Progress:', layout=Layout(height='25px', width='50%'),…"
      ]
     },
     "metadata": {},
     "output_type": "display_data"
    },
    {
     "name": "stderr",
     "output_type": "stream",
     "text": [
      "Exception in thread cell_monitor-23:\n",
      "Traceback (most recent call last):\n",
      "  File \"/opt/conda/lib/python3.7/threading.py\", line 917, in _bootstrap_inner\n",
      "    self.run()\n",
      "  File \"/opt/conda/lib/python3.7/threading.py\", line 865, in run\n",
      "    self._target(*self._args, **self._kwargs)\n",
      "  File \"/opt/conda/lib/python3.7/site-packages/awseditorssparkmonitoringwidget-1.0-py3.7.egg/awseditorssparkmonitoringwidget/cellmonitor.py\", line 178, in cell_monitor\n",
      "    job_binned_stages[job_id][stage_id] = all_stages[stage_id]\n",
      "KeyError: 1199\n",
      "\n"
     ]
    }
   ],
   "source": [
    "lr = LogisticRegression(regParam=0.01, maxIter=1000, fitIntercept=True)\n",
    "evaluator = MulticlassClassificationEvaluator()\n",
    "paramGrid = ParamGridBuilder().addGrid(lr.maxIter, [10, 50, 100, 1000]).addGrid(lr.regParam, [0, 0.01, 0.05, 1]).build()\n",
    "cv = CrossValidator(estimator=lr, evaluator=evaluator, numFolds=5, estimatorParamMaps=paramGrid)\n",
    "cvmodel = cv.fit(data_df_train)"
   ]
  },
  {
   "cell_type": "code",
   "execution_count": 24,
   "metadata": {},
   "outputs": [
    {
     "data": {
      "application/vnd.jupyter.widget-view+json": {
       "model_id": "229ceedfc5964c76951888d1c77e9297",
       "version_major": 2,
       "version_minor": 0
      },
      "text/plain": [
       "VBox()"
      ]
     },
     "metadata": {},
     "output_type": "display_data"
    },
    {
     "data": {
      "application/vnd.jupyter.widget-view+json": {
       "model_id": "",
       "version_major": 2,
       "version_minor": 0
      },
      "text/plain": [
       "FloatProgress(value=0.0, bar_style='info', description='Progress:', layout=Layout(height='25px', width='50%'),…"
      ]
     },
     "metadata": {},
     "output_type": "display_data"
    },
    {
     "name": "stdout",
     "output_type": "stream",
     "text": [
      "F1 : 0.711677747642291"
     ]
    }
   ],
   "source": [
    "print(\"F1 : %s\" % MulticlassClassificationEvaluator(metricName='f1').evaluate(cvmodel.bestModel.transform(data_df_test)))\n"
   ]
  },
  {
   "cell_type": "code",
   "execution_count": 25,
   "metadata": {},
   "outputs": [
    {
     "data": {
      "application/vnd.jupyter.widget-view+json": {
       "model_id": "52cb58528e2a443b8e6ada6d4b8cfbd0",
       "version_major": 2,
       "version_minor": 0
      },
      "text/plain": [
       "VBox()"
      ]
     },
     "metadata": {},
     "output_type": "display_data"
    },
    {
     "data": {
      "application/vnd.jupyter.widget-view+json": {
       "model_id": "",
       "version_major": 2,
       "version_minor": 0
      },
      "text/plain": [
       "FloatProgress(value=0.0, bar_style='info', description='Progress:', layout=Layout(height='25px', width='50%'),…"
      ]
     },
     "metadata": {},
     "output_type": "display_data"
    },
    {
     "name": "stdout",
     "output_type": "stream",
     "text": [
      "0.0"
     ]
    }
   ],
   "source": [
    "cvmodel.bestModel._java_obj.getMaxIter()\n",
    "cvmodel.bestModel._java_obj.getRegParam()"
   ]
  },
  {
   "cell_type": "markdown",
   "metadata": {},
   "source": [
    "# Deep Learning with H2O"
   ]
  },
  {
   "cell_type": "code",
   "execution_count": 26,
   "metadata": {},
   "outputs": [
    {
     "data": {
      "application/vnd.jupyter.widget-view+json": {
       "model_id": "092cdb3b2ed6410683bc99e74e8da210",
       "version_major": 2,
       "version_minor": 0
      },
      "text/plain": [
       "VBox()"
      ]
     },
     "metadata": {},
     "output_type": "display_data"
    },
    {
     "data": {
      "application/vnd.jupyter.widget-view+json": {
       "model_id": "",
       "version_major": 2,
       "version_minor": 0
      },
      "text/plain": [
       "FloatProgress(value=0.0, bar_style='info', description='Progress:', layout=Layout(height='25px', width='50%'),…"
      ]
     },
     "metadata": {},
     "output_type": "display_data"
    },
    {
     "name": "stdout",
     "output_type": "stream",
     "text": [
      "Collecting h2o-pysparkling-2.4\n",
      "  Downloading https://files.pythonhosted.org/packages/a0/4c/0b5c5f2e76d84a7b54875a14cf79523714c49f077d33af21ea9418b54abf/h2o_pysparkling_2.4-3.28.0.1-1.tar.gz (101.2MB)\n",
      "Collecting requests\n",
      "  Downloading https://files.pythonhosted.org/packages/51/bd/23c926cd341ea6b7dd0b2a00aba99ae0f828be89d72b2190f27c11d4b7fb/requests-2.22.0-py2.py3-none-any.whl (57kB)\n",
      "Collecting tabulate\n",
      "  Downloading https://files.pythonhosted.org/packages/c4/41/523f6a05e6dc3329a5660f6a81254c6cd87e5cfb5b7482bae3391d86ec3a/tabulate-0.8.6.tar.gz (45kB)\n",
      "Collecting future\n",
      "  Downloading https://files.pythonhosted.org/packages/45/0b/38b06fd9b92dc2b68d58b75f900e97884c45bedd2ff83203d933cf5851c9/future-0.18.2.tar.gz (829kB)\n",
      "Collecting colorama>=0.3.8\n",
      "  Downloading https://files.pythonhosted.org/packages/c9/dc/45cdef1b4d119eb96316b3117e6d5708a08029992b2fee2c143c7a0a5cc5/colorama-0.4.3-py2.py3-none-any.whl\n",
      "Requirement already satisfied: numpy>=1.9.2 in /usr/local/lib64/python3.6/site-packages (from h2o-pysparkling-2.4) (1.14.5)\n",
      "Collecting pyspark<=2.4.4,>=2.4.0\n",
      "  Downloading https://files.pythonhosted.org/packages/87/21/f05c186f4ddb01d15d0ddc36ef4b7e3cedbeb6412274a41f26b55a650ee5/pyspark-2.4.4.tar.gz (215.7MB)\n",
      "Collecting idna<2.9,>=2.5\n",
      "  Downloading https://files.pythonhosted.org/packages/14/2c/cd551d81dbe15200be1cf41cd03869a46fe7226e7450af7a6545bfc474c9/idna-2.8-py2.py3-none-any.whl (58kB)\n",
      "Collecting certifi>=2017.4.17\n",
      "  Downloading https://files.pythonhosted.org/packages/b9/63/df50cac98ea0d5b006c55a399c3bf1db9da7b5a24de7890bc9cfd5dd9e99/certifi-2019.11.28-py2.py3-none-any.whl (156kB)\n",
      "Collecting urllib3!=1.25.0,!=1.25.1,<1.26,>=1.21.1\n",
      "  Downloading https://files.pythonhosted.org/packages/b4/40/a9837291310ee1ccc242ceb6ebfd9eb21539649f193a7c8c86ba15b98539/urllib3-1.25.7-py2.py3-none-any.whl (125kB)\n",
      "Collecting chardet<3.1.0,>=3.0.2\n",
      "  Downloading https://files.pythonhosted.org/packages/bc/a9/01ffebfb562e4274b6487b4bb1ddec7ca55ec7510b22e4c51f14098443b8/chardet-3.0.4-py2.py3-none-any.whl (133kB)\n",
      "Collecting py4j==0.10.7\n",
      "  Downloading https://files.pythonhosted.org/packages/e3/53/c737818eb9a7dc32a7cd4f1396e787bd94200c3997c72c1dbe028587bd76/py4j-0.10.7-py2.py3-none-any.whl (197kB)\n",
      "Building wheels for collected packages: h2o-pysparkling-2.4, tabulate, future, pyspark\n",
      "  Building wheel for h2o-pysparkling-2.4 (setup.py): started\n",
      "  Building wheel for h2o-pysparkling-2.4 (setup.py): finished with status 'done'\n",
      "  Created wheel for h2o-pysparkling-2.4: filename=h2o_pysparkling_2.4-3.28.0.1.post1-py2.py3-none-any.whl size=101307807 sha256=2daf9500137dac5b3ba2518cbb4a1f1d706614d651ff2e95ca837cfef716453e\n",
      "  Stored in directory: /var/lib/livy/.cache/pip/wheels/0d/2f/d2/7e0c36c53b57ca597430858ab3d72e1a612a10780016ff6765\n",
      "  Building wheel for tabulate (setup.py): started\n",
      "  Building wheel for tabulate (setup.py): finished with status 'done'\n",
      "  Created wheel for tabulate: filename=tabulate-0.8.6-cp36-none-any.whl size=23271 sha256=e2b943e6eda079ce1848f541a2be2a086d861fb7e60aded9c3ea9a7b6e4df40c\n",
      "  Stored in directory: /var/lib/livy/.cache/pip/wheels/9c/9b/f4/eb243fdb89676ec00588e8c54bb54360724c06e7fafe95278e\n",
      "  Building wheel for future (setup.py): started\n",
      "  Building wheel for future (setup.py): finished with status 'done'\n",
      "  Created wheel for future: filename=future-0.18.2-cp36-none-any.whl size=491057 sha256=d5a930f9e96bffd35bfccab9a5ad67ebe17663500e4cebb4c9ee701e00afa9ee\n",
      "  Stored in directory: /var/lib/livy/.cache/pip/wheels/8b/99/a0/81daf51dcd359a9377b110a8a886b3895921802d2fc1b2397e\n",
      "  Building wheel for pyspark (setup.py): started\n",
      "  Building wheel for pyspark (setup.py): finished with status 'done'\n",
      "  Created wheel for pyspark: filename=pyspark-2.4.4-py2.py3-none-any.whl size=216130387 sha256=27bd64622f22c26c214af60ed9c5266582b00eeb38c01c83019c0eff6c9325eb\n",
      "  Stored in directory: /var/lib/livy/.cache/pip/wheels/ab/09/4d/0d184230058e654eb1b04467dbc1292f00eaa186544604b471\n",
      "Successfully built h2o-pysparkling-2.4 tabulate future pyspark\n",
      "Installing collected packages: idna, certifi, urllib3, chardet, requests, tabulate, future, colorama, py4j, pyspark, h2o-pysparkling-2.4\n",
      "Successfully installed certifi-2019.11.28 chardet-3.0.4 colorama-0.4.3 future-0.18.2 h2o-pysparkling-2.4-3.28.0.1.post1 idna-2.8 py4j-0.10.7 pyspark-2.4.4 requests-2.22.0 tabulate-0.8.6 urllib3-1.25.7\n",
      "\n",
      "Collecting h2o\n",
      "  Downloading https://files.pythonhosted.org/packages/6b/d1/aaa74df4716b2454d6034261807ef3855d014862c801f0e9b803b568006d/h2o-3.28.0.1.tar.gz (123.4MB)\n",
      "Requirement already satisfied: requests in /mnt/tmp/1579223395802-0/lib/python3.6/site-packages (from h2o) (2.22.0)\n",
      "Requirement already satisfied: tabulate in /mnt/tmp/1579223395802-0/lib/python3.6/site-packages (from h2o) (0.8.6)\n",
      "Requirement already satisfied: future in /mnt/tmp/1579223395802-0/lib/python3.6/site-packages (from h2o) (0.18.2)\n",
      "Requirement already satisfied: colorama>=0.3.8 in /mnt/tmp/1579223395802-0/lib/python3.6/site-packages (from h2o) (0.4.3)\n",
      "Requirement already satisfied: idna<2.9,>=2.5 in /mnt/tmp/1579223395802-0/lib/python3.6/site-packages (from requests->h2o) (2.8)\n",
      "Requirement already satisfied: certifi>=2017.4.17 in /mnt/tmp/1579223395802-0/lib/python3.6/site-packages (from requests->h2o) (2019.11.28)\n",
      "Requirement already satisfied: urllib3!=1.25.0,!=1.25.1,<1.26,>=1.21.1 in /mnt/tmp/1579223395802-0/lib/python3.6/site-packages (from requests->h2o) (1.25.7)\n",
      "Requirement already satisfied: chardet<3.1.0,>=3.0.2 in /mnt/tmp/1579223395802-0/lib/python3.6/site-packages (from requests->h2o) (3.0.4)\n",
      "Building wheels for collected packages: h2o\n",
      "  Building wheel for h2o (setup.py): started\n",
      "  Building wheel for h2o (setup.py): finished with status 'done'\n",
      "  Created wheel for h2o: filename=h2o-3.28.0.1-py2.py3-none-any.whl size=123410554 sha256=a82033924fb8d8ba2f4d0a2c2fb21a538ae24d3e77e8dfcdd193c8973aee2f86\n",
      "  Stored in directory: /var/lib/livy/.cache/pip/wheels/ff/82/f4/3fe9c895b93c53b25ae44dc44aa54dad571c711f48bc485fe9\n",
      "Successfully built h2o\n",
      "Installing collected packages: h2o\n",
      "Successfully installed h2o-3.28.0.1\n",
      "\n",
      "ERROR: python36-sagemaker-pyspark 1.2.6 has requirement pyspark==2.3.2, but you'll have pyspark 2.4.4 which is incompatible."
     ]
    }
   ],
   "source": [
    "sc.install_pypi_package('h2o-pysparkling-2.4')\n",
    "sc.install_pypi_package('h2o')"
   ]
  },
  {
   "cell_type": "code",
   "execution_count": 32,
   "metadata": {},
   "outputs": [
    {
     "data": {
      "application/vnd.jupyter.widget-view+json": {
       "model_id": "b87971584b004bc8bacf0eca301f0637",
       "version_major": 2,
       "version_minor": 0
      },
      "text/plain": [
       "VBox()"
      ]
     },
     "metadata": {},
     "output_type": "display_data"
    },
    {
     "data": {
      "application/vnd.jupyter.widget-view+json": {
       "model_id": "",
       "version_major": 2,
       "version_minor": 0
      },
      "text/plain": [
       "FloatProgress(value=0.0, bar_style='info', description='Progress:', layout=Layout(height='25px', width='50%'),…"
      ]
     },
     "metadata": {},
     "output_type": "display_data"
    },
    {
     "name": "stdout",
     "output_type": "stream",
     "text": [
      "\n",
      "Sparkling Water Context:\n",
      " * Sparkling Water Version: 3.28.0.1-1-2.4\n",
      " * H2O name: sparkling-water-livy_application_1579223218365_0001\n",
      " * cluster size: 2\n",
      " * list of used nodes:\n",
      "  (executorId, host, port)\n",
      "  ------------------------\n",
      "  (4,172.31.11.98,54321)\n",
      "  (1,172.31.0.248,54321)\n",
      "  ------------------------\n",
      "\n",
      "  Open H2O Flow in browser: http://ip-172-31-13-122.us-west-2.compute.internal:54321 (CMD + click in Mac OSX)\n",
      "\n",
      "    \n",
      " * Yarn App ID of Spark application: application_1579223218365_0001"
     ]
    }
   ],
   "source": [
    "ss = SparkSession.builder.master('yarn').config(\"spark.dynamicAllocation.enabled\", True).getOrCreate()\n",
    "from pysparkling import *\n",
    "import h2o\n",
    "hc = H2OContext.getOrCreate(ss)"
   ]
  },
  {
   "cell_type": "code",
   "execution_count": 34,
   "metadata": {},
   "outputs": [
    {
     "data": {
      "application/vnd.jupyter.widget-view+json": {
       "model_id": "138c8af9a2264a23bbf312ed84ec7e31",
       "version_major": 2,
       "version_minor": 0
      },
      "text/plain": [
       "VBox()"
      ]
     },
     "metadata": {},
     "output_type": "display_data"
    },
    {
     "data": {
      "application/vnd.jupyter.widget-view+json": {
       "model_id": "",
       "version_major": 2,
       "version_minor": 0
      },
      "text/plain": [
       "FloatProgress(value=0.0, bar_style='info', description='Progress:', layout=Layout(height='25px', width='50%'),…"
      ]
     },
     "metadata": {},
     "output_type": "display_data"
    }
   ],
   "source": [
    "data_df = sqlContext.read.format('parquet').load(\"s3://usfca-endomondo/processed_data\") \n",
    "data_df = data_df.drop('timestamp', 'id')\n",
    "data_df_train, data_df_test = data_df.randomSplit([0.8, 0.2])"
   ]
  },
  {
   "cell_type": "code",
   "execution_count": 35,
   "metadata": {},
   "outputs": [
    {
     "data": {
      "application/vnd.jupyter.widget-view+json": {
       "model_id": "c3620f3453dc464fbc3cec614299c526",
       "version_major": 2,
       "version_minor": 0
      },
      "text/plain": [
       "VBox()"
      ]
     },
     "metadata": {},
     "output_type": "display_data"
    },
    {
     "data": {
      "application/vnd.jupyter.widget-view+json": {
       "model_id": "",
       "version_major": 2,
       "version_minor": 0
      },
      "text/plain": [
       "FloatProgress(value=0.0, bar_style='info', description='Progress:', layout=Layout(height='25px', width='50%'),…"
      ]
     },
     "metadata": {},
     "output_type": "display_data"
    }
   ],
   "source": [
    "data_train_df_h2o = hc.as_h2o_frame(data_df_train, 'train')"
   ]
  },
  {
   "cell_type": "code",
   "execution_count": 36,
   "metadata": {},
   "outputs": [
    {
     "data": {
      "application/vnd.jupyter.widget-view+json": {
       "model_id": "d2beece4f3b649cfb11a76455a3b780c",
       "version_major": 2,
       "version_minor": 0
      },
      "text/plain": [
       "VBox()"
      ]
     },
     "metadata": {},
     "output_type": "display_data"
    },
    {
     "data": {
      "application/vnd.jupyter.widget-view+json": {
       "model_id": "",
       "version_major": 2,
       "version_minor": 0
      },
      "text/plain": [
       "FloatProgress(value=0.0, bar_style='info', description='Progress:', layout=Layout(height='25px', width='50%'),…"
      ]
     },
     "metadata": {},
     "output_type": "display_data"
    }
   ],
   "source": [
    "data_df_train_h2o = hc.as_h2o_frame(data_df_train, 'train')\n",
    "data_df_train_h2o['sport'] = data_df_train_h2o['sport'].asfactor()\n",
    "data_df_train_h2o['gender'] = data_df_train_h2o['gender'].asfactor()"
   ]
  },
  {
   "cell_type": "code",
   "execution_count": 37,
   "metadata": {},
   "outputs": [
    {
     "data": {
      "application/vnd.jupyter.widget-view+json": {
       "model_id": "7cf720d735d6424c97f2a12a774b21c7",
       "version_major": 2,
       "version_minor": 0
      },
      "text/plain": [
       "VBox()"
      ]
     },
     "metadata": {},
     "output_type": "display_data"
    },
    {
     "data": {
      "application/vnd.jupyter.widget-view+json": {
       "model_id": "",
       "version_major": 2,
       "version_minor": 0
      },
      "text/plain": [
       "FloatProgress(value=0.0, bar_style='info', description='Progress:', layout=Layout(height='25px', width='50%'),…"
      ]
     },
     "metadata": {},
     "output_type": "display_data"
    }
   ],
   "source": [
    "data_df_test_h2o = hc.as_h2o_frame(data_df_test, 'test')\n",
    "data_df_test_h2o['sport'] = data_df_test_h2o['sport'].asfactor()\n",
    "data_df_test_h2o['gender'] = data_df_test_h2o['gender'].asfactor()"
   ]
  },
  {
   "cell_type": "code",
   "execution_count": 42,
   "metadata": {},
   "outputs": [
    {
     "data": {
      "application/vnd.jupyter.widget-view+json": {
       "model_id": "d171b986612c493b910fe5e9df5fa0e2",
       "version_major": 2,
       "version_minor": 0
      },
      "text/plain": [
       "VBox()"
      ]
     },
     "metadata": {},
     "output_type": "display_data"
    },
    {
     "name": "stderr",
     "output_type": "stream",
     "text": [
      "An error was encountered:\n",
      "Session 0 did not reach idle status in time. Current status is busy.\n"
     ]
    }
   ],
   "source": [
    "from h2o.estimators.deeplearning import H2ODeepLearningEstimator\n",
    "\n",
    "dl = H2ODeepLearningEstimator(loss='cross_entropy', nfolds=2, epochs=88, activation=\"rectifier_with_dropout\", balance_classes=False)"
   ]
  },
  {
   "cell_type": "markdown",
   "metadata": {},
   "source": [
    "### Deep learning works on Shrikar's local laptop, but it took forever to run on EMR. \n",
    "### Had a F1=0.674"
   ]
  },
  {
   "cell_type": "code",
   "execution_count": 43,
   "metadata": {},
   "outputs": [
    {
     "data": {
      "application/vnd.jupyter.widget-view+json": {
       "model_id": "e839929931e042acacf7f3173e60d7bc",
       "version_major": 2,
       "version_minor": 0
      },
      "text/plain": [
       "VBox()"
      ]
     },
     "metadata": {},
     "output_type": "display_data"
    },
    {
     "name": "stderr",
     "output_type": "stream",
     "text": [
      "An error was encountered:\n",
      "Session 0 did not reach idle status in time. Current status is busy.\n"
     ]
    }
   ],
   "source": [
    "dl.train(x=input_cols, y=label_col, training_frame=data_df_train_h2o, validation_frame=data_df_test_h2o)"
   ]
  },
  {
   "cell_type": "code",
   "execution_count": null,
   "metadata": {},
   "outputs": [],
   "source": [
    "dl"
   ]
  },
  {
   "cell_type": "markdown",
   "metadata": {},
   "source": [
    "# Gradient Boosting Trees with H2O"
   ]
  },
  {
   "cell_type": "code",
   "execution_count": 52,
   "metadata": {},
   "outputs": [
    {
     "data": {
      "application/vnd.jupyter.widget-view+json": {
       "model_id": "b8ff4c3f22e64a0bad38405036ac6675",
       "version_major": 2,
       "version_minor": 0
      },
      "text/plain": [
       "VBox()"
      ]
     },
     "metadata": {},
     "output_type": "display_data"
    },
    {
     "data": {
      "application/vnd.jupyter.widget-view+json": {
       "model_id": "",
       "version_major": 2,
       "version_minor": 0
      },
      "text/plain": [
       "FloatProgress(value=0.0, bar_style='info', description='Progress:', layout=Layout(height='25px', width='50%'),…"
      ]
     },
     "metadata": {},
     "output_type": "display_data"
    },
    {
     "name": "stdout",
     "output_type": "stream",
     "text": [
      "gbm Model Build progress: [###############################################] 100%"
     ]
    }
   ],
   "source": [
    "from h2o.estimators.gbm import H2OGradientBoostingEstimator\n",
    "\n",
    "df = sqlContext.read.format('parquet').load(\"s3://usfca-endomondo/processed_data\") \n",
    "df_new = df.drop('timestamp', 'id')\n",
    "# splitting the data\n",
    "split = df_new.randomSplit([.8, .2])\n",
    "train = split[0]\n",
    "valid = split[1]\n",
    "# turning it into a dataframe\n",
    "h2o_train = hc.as_h2o_frame(train)\n",
    "h2o_valid = hc.as_h2o_frame(valid)\n",
    "# turning the string columns into categorical\n",
    "h2o_train['gender'] = h2o_train['gender'].asfactor()\n",
    "h2o_train['sport'] = h2o_train['sport'].asfactor()\n",
    "h2o_valid['gender'] = h2o_valid['gender'].asfactor()\n",
    "h2o_valid['sport'] = h2o_valid['sport'].asfactor()\n",
    "# setup for training\n",
    "predictors = h2o_train.columns\n",
    "response = 'sport'\n",
    "predictors.remove(response)\n",
    "# GridSearch Gradient Boosting\n",
    "gbt = H2OGradientBoostingEstimator(nfolds=2, seed=42)\n",
    "gbt.train(x=predictors, y=response, training_frame=h2o_train, validation_frame=h2o_valid)"
   ]
  },
  {
   "cell_type": "code",
   "execution_count": 53,
   "metadata": {
    "scrolled": false
   },
   "outputs": [
    {
     "data": {
      "application/vnd.jupyter.widget-view+json": {
       "model_id": "f1c4e12735fc433daba59d3c9c5cd993",
       "version_major": 2,
       "version_minor": 0
      },
      "text/plain": [
       "VBox()"
      ]
     },
     "metadata": {},
     "output_type": "display_data"
    },
    {
     "data": {
      "application/vnd.jupyter.widget-view+json": {
       "model_id": "",
       "version_major": 2,
       "version_minor": 0
      },
      "text/plain": [
       "FloatProgress(value=0.0, bar_style='info', description='Progress:', layout=Layout(height='25px', width='50%'),…"
      ]
     },
     "metadata": {},
     "output_type": "display_data"
    },
    {
     "name": "stdout",
     "output_type": "stream",
     "text": [
      "Model Details\n",
      "=============\n",
      "H2OGradientBoostingEstimator :  Gradient Boosting Machine\n",
      "Model Key:  GBM_model_python_1579226151332_5\n",
      "\n",
      "\n",
      "Model Summary: \n",
      "    number_of_trees    number_of_internal_trees    model_size_in_bytes    min_depth    max_depth    mean_depth    min_leaves    max_leaves    mean_leaves\n",
      "--  -----------------  --------------------------  ---------------------  -----------  -----------  ------------  ------------  ------------  -------------\n",
      "    50                 200                         89307                  5            5            5             25            32            30.855\n",
      "\n",
      "\n",
      "ModelMetricsMultinomial: gbm\n",
      "** Reported on train data. **\n",
      "\n",
      "MSE: 0.17849465405629125\n",
      "RMSE: 0.42248627676682143\n",
      "LogLoss: 0.566470811903318\n",
      "Mean Per-Class Error: 0.4856787026484119\n",
      "\n",
      "Confusion Matrix: Row labels: Actual class; Column labels: Predicted class\n",
      "bike    bike (transport)    mountain bike    run    Error     Rate\n",
      "------  ------------------  ---------------  -----  --------  ----------------\n",
      "49651   57                  143              7625   0.136144  7,825 / 57,476\n",
      "3511    1383                4                1281   0.776177  4,796 / 6,179\n",
      "6625    21                  629              1351   0.927081  7,997 / 8,626\n",
      "5782    17                  36               50644  0.103313  5,835 / 56,479\n",
      "65569   1478                812              60901  0.205444  26,453 / 128,760\n",
      "\n",
      "Top-4 Hit Ratios: \n",
      "k    hit_ratio\n",
      "---  -----------\n",
      "1    0.794556\n",
      "2    0.945146\n",
      "3    0.986083\n",
      "4    1\n",
      "\n",
      "ModelMetricsMultinomial: gbm\n",
      "** Reported on validation data. **\n",
      "\n",
      "MSE: 0.1817243641732331\n",
      "RMSE: 0.42629140757612405\n",
      "LogLoss: 0.5784461523748284\n",
      "Mean Per-Class Error: 0.4898594602343071\n",
      "\n",
      "Confusion Matrix: Row labels: Actual class; Column labels: Predicted class\n",
      "bike    bike (transport)    mountain bike    run    Error     Rate\n",
      "------  ------------------  ---------------  -----  --------  --------------\n",
      "12394   11                  48               1986   0.14163   2,045 / 14,439\n",
      "900     337                 1                340    0.786439  1,241 / 1,578\n",
      "1564    11                  156              365    0.925573  1,940 / 2,096\n",
      "1477    6                   10               12619  0.105796  1,493 / 14,112\n",
      "16335   365                 215              15310  0.208503  6,719 / 32,225\n",
      "\n",
      "Top-4 Hit Ratios: \n",
      "k    hit_ratio\n",
      "---  -----------\n",
      "1    0.791497\n",
      "2    0.942374\n",
      "3    0.98526\n",
      "4    1\n",
      "\n",
      "ModelMetricsMultinomial: gbm\n",
      "** Reported on cross-validation data. **\n",
      "\n",
      "MSE: 0.18160456828828805\n",
      "RMSE: 0.42615087502935867\n",
      "LogLoss: 0.5778185828556002\n",
      "Mean Per-Class Error: 0.4880838869468593\n",
      "\n",
      "Confusion Matrix: Row labels: Actual class; Column labels: Predicted class\n",
      "bike    bike (transport)    mountain bike    run    Error     Rate\n",
      "------  ------------------  ---------------  -----  --------  ----------------\n",
      "49434   76                  228              7738   0.139919  8,042 / 57,476\n",
      "3441    1422                10               1306   0.769866  4,757 / 6,179\n",
      "6686    31                  553              1356   0.935891  8,073 / 8,626\n",
      "5944    26                  54               50455  0.106659  6,024 / 56,479\n",
      "65505   1555                845              60855  0.208885  26,896 / 128,760\n",
      "\n",
      "Top-4 Hit Ratios: \n",
      "k    hit_ratio\n",
      "---  -----------\n",
      "1    0.791115\n",
      "2    0.943041\n",
      "3    0.98498\n",
      "4    1\n",
      "\n",
      "Cross-Validation Metrics Summary: \n",
      "                         mean      sd           cv_1_valid    cv_2_valid\n",
      "-----------------------  --------  -----------  ------------  ------------\n",
      "accuracy                 0.791115  0.000862264  0.790505      0.791725\n",
      "err                      0.208885  0.000862264  0.209495      0.208275\n",
      "err_count                13448     53.7401      13486         13410\n",
      "logloss                  0.577819  0.00331782   0.580165      0.575473\n",
      "max_per_class_error      0.935856  0.0032126    0.938128      0.933585\n",
      "mean_per_class_accuracy  0.511909  0.00262784   0.510051      0.513767\n",
      "mean_per_class_error     0.488091  0.00262784   0.489949      0.486233\n",
      "mse                      0.181605  0.00114317   0.182413      0.180796\n",
      "r2                       0.910098  0.000632446  0.909651      0.910545\n",
      "rmse                     0.42615   0.00134128   0.427098      0.425201\n",
      "\n",
      "Scoring History: \n",
      "     timestamp            duration    number_of_trees    training_rmse        training_logloss    training_classification_error    validation_rmse      validation_logloss    validation_classification_error\n",
      "---  -------------------  ----------  -----------------  -------------------  ------------------  -------------------------------  -------------------  --------------------  ---------------------------------\n",
      "     2020-01-17 02:40:12  18.423 sec  0.0                0.75                 1.386294361120147   0.6017785026405716               0.75                 1.3862943611198835    0.5994414274631498\n",
      "     2020-01-17 02:40:12  18.580 sec  1.0                0.7082064382364288   1.2354282684133489  0.231112146629388                0.7081742361234644   1.2353401501934103    0.23121799844840962\n",
      "     2020-01-17 02:40:12  18.791 sec  2.0                0.6714226627441373   1.1234007018136647  0.23102671637154396              0.6713985982100298   1.1234035882796098    0.23010085337470906\n",
      "     2020-01-17 02:40:12  19.008 sec  3.0                0.6389125738341416   1.0356507231179126  0.22854923889406648              0.638952871122303    1.0358647370029475    0.22684251357641583\n",
      "     2020-01-17 02:40:12  19.157 sec  4.0                0.6107222791574602   0.9663907905625791  0.22891425908667287              0.6108141349359075   0.9668015088440439    0.2274010861132661\n",
      "---  ---                  ---         ---                ---                  ---                 ---                              ---                  ---                   ---\n",
      "     2020-01-17 02:40:15  21.884 sec  20.0               0.45498341400902953  0.6388313773652609  0.22139639639639638              0.4564728088716396   0.6432444577044786    0.22212567882079132\n",
      "     2020-01-17 02:40:15  22.043 sec  21.0               0.4526424907218662   0.6339813758282185  0.22087604846225536              0.4542078452770664   0.638660493156419     0.22206361520558573\n",
      "     2020-01-17 02:40:15  22.183 sec  22.0               0.4505579093536633   0.6294824026107689  0.22029356943150047              0.4522024310197723   0.6344843117414543    0.22138091543832428\n",
      "     2020-01-17 02:40:16  22.334 sec  23.0               0.44856860935713394  0.6253961972612903  0.21965672569120845              0.4502681742391498   0.6305623290780308    0.22100853374709076\n",
      "     2020-01-17 02:40:19  25.823 sec  50.0               0.42248627676682143  0.566470811903318   0.20544423734078907              0.42629140757612405  0.5784461523748284    0.20850271528316525\n",
      "\n",
      "Variable Importances: \n",
      "variable    relative_importance    scaled_importance    percentage\n",
      "----------  ---------------------  -------------------  ------------\n",
      "miles       112984                 1                    0.646816\n",
      "avg_heart   30417.9                0.269223             0.174138\n",
      "std_heart   14244.1                0.126072             0.0815454\n",
      "std_alt     3775.16                0.0334133            0.0216122\n",
      "min_alt     3675.99                0.0325355            0.0210445\n",
      "var_heart   3111.21                0.0275367            0.0178112\n",
      "avg_alt     2917.04                0.0258182            0.0166996\n",
      "max_alt     2710.79                0.0239927            0.0155189\n",
      "gender      537.208                0.00475472           0.00307543\n",
      "var_alt     303.852                0.00268934           0.0017395"
     ]
    }
   ],
   "source": [
    "gbt"
   ]
  },
  {
   "cell_type": "markdown",
   "metadata": {},
   "source": [
    "# XGBoost with H2O"
   ]
  },
  {
   "cell_type": "code",
   "execution_count": 54,
   "metadata": {},
   "outputs": [
    {
     "data": {
      "application/vnd.jupyter.widget-view+json": {
       "model_id": "a5fa4c6d88cc458d973b19ebb4758398",
       "version_major": 2,
       "version_minor": 0
      },
      "text/plain": [
       "VBox()"
      ]
     },
     "metadata": {},
     "output_type": "display_data"
    },
    {
     "data": {
      "application/vnd.jupyter.widget-view+json": {
       "model_id": "",
       "version_major": 2,
       "version_minor": 0
      },
      "text/plain": [
       "FloatProgress(value=0.0, bar_style='info', description='Progress:', layout=Layout(height='25px', width='50%'),…"
      ]
     },
     "metadata": {},
     "output_type": "display_data"
    },
    {
     "name": "stdout",
     "output_type": "stream",
     "text": [
      "xgboost Model Build progress: [###########################################] 100%"
     ]
    }
   ],
   "source": [
    "from h2o.estimators.xgboost import H2OXGBoostEstimator\n",
    "\n",
    "xgb = H2OXGBoostEstimator(ntrees=20, max_depth=20, nfolds=2, seed=42)\n",
    "xgb.train(x=predictors, y=response, training_frame=h2o_train, validation_frame=h2o_valid)"
   ]
  },
  {
   "cell_type": "code",
   "execution_count": 55,
   "metadata": {},
   "outputs": [
    {
     "data": {
      "application/vnd.jupyter.widget-view+json": {
       "model_id": "efabe1c2daf847b397bd77e7b281aae0",
       "version_major": 2,
       "version_minor": 0
      },
      "text/plain": [
       "VBox()"
      ]
     },
     "metadata": {},
     "output_type": "display_data"
    },
    {
     "data": {
      "application/vnd.jupyter.widget-view+json": {
       "model_id": "",
       "version_major": 2,
       "version_minor": 0
      },
      "text/plain": [
       "FloatProgress(value=0.0, bar_style='info', description='Progress:', layout=Layout(height='25px', width='50%'),…"
      ]
     },
     "metadata": {},
     "output_type": "display_data"
    },
    {
     "name": "stdout",
     "output_type": "stream",
     "text": [
      "Model Details\n",
      "=============\n",
      "H2OXGBoostEstimator :  XGBoost\n",
      "Model Key:  XGBoost_model_python_1579226151332_6\n",
      "\n",
      "\n",
      "Model Summary: \n",
      "    number_of_trees\n",
      "--  -----------------\n",
      "    20\n",
      "\n",
      "\n",
      "ModelMetricsMultinomial: xgboost\n",
      "** Reported on train data. **\n",
      "\n",
      "MSE: 0.012129046179988372\n",
      "RMSE: 0.11013194895210188\n",
      "LogLoss: 0.07872624706014061\n",
      "Mean Per-Class Error: 0.005501879121064622\n",
      "\n",
      "Confusion Matrix: Row labels: Actual class; Column labels: Predicted class\n",
      "bike    bike (transport)    mountain bike    run    Error        Rate\n",
      "------  ------------------  ---------------  -----  -----------  -------------\n",
      "57365   6                   1                104    0.00193124   111 / 57,476\n",
      "34      6115                0                30     0.0103577    64 / 6,179\n",
      "41      5                   8544             36     0.00950614   82 / 8,626\n",
      "12      0                   0                56467  0.000212468  12 / 56,479\n",
      "57452   6126                8545             56637  0.00208916   269 / 128,760\n",
      "\n",
      "Top-4 Hit Ratios: \n",
      "k    hit_ratio\n",
      "---  -----------\n",
      "1    0.997911\n",
      "2    0.999969\n",
      "3    1\n",
      "4    1\n",
      "\n",
      "ModelMetricsMultinomial: xgboost\n",
      "** Reported on validation data. **\n",
      "\n",
      "MSE: 0.14967718717019973\n",
      "RMSE: 0.38688136058771266\n",
      "LogLoss: 0.5223203694596255\n",
      "Mean Per-Class Error: 0.3729942828885843\n",
      "\n",
      "Confusion Matrix: Row labels: Actual class; Column labels: Predicted class\n",
      "bike    bike (transport)    mountain bike    run    Error      Rate\n",
      "------  ------------------  ---------------  -----  ---------  --------------\n",
      "12472   137                 235              1595   0.136228   1,967 / 14,439\n",
      "533     808                 10               227    0.487959   770 / 1,578\n",
      "1244    26                  480              346    0.770992   1,616 / 2,096\n",
      "1279    28                  59               12746  0.0967971  1,366 / 14,112\n",
      "15528   999                 784              14914  0.177471   5,719 / 32,225\n",
      "\n",
      "Top-4 Hit Ratios: \n",
      "k    hit_ratio\n",
      "---  -----------\n",
      "1    0.822529\n",
      "2    0.952832\n",
      "3    0.988425\n",
      "4    1\n",
      "\n",
      "ModelMetricsMultinomial: xgboost\n",
      "** Reported on cross-validation data. **\n",
      "\n",
      "MSE: 0.15685276359747086\n",
      "RMSE: 0.3960464159634207\n",
      "LogLoss: 0.5498974317328315\n",
      "Mean Per-Class Error: 0.389217208078536\n",
      "\n",
      "Confusion Matrix: Row labels: Actual class; Column labels: Predicted class\n",
      "bike    bike (transport)    mountain bike    run    Error     Rate\n",
      "------  ------------------  ---------------  -----  --------  ----------------\n",
      "49491   542                 969              6474   0.138928  7,985 / 57,476\n",
      "2194    3028                47               910    0.509953  3,151 / 6,179\n",
      "5537    87                  1667             1335   0.806747  6,959 / 8,626\n",
      "5335    155                 228              50761  0.101241  5,718 / 56,479\n",
      "62557   3812                2911             59480  0.184941  23,813 / 128,760\n",
      "\n",
      "Top-4 Hit Ratios: \n",
      "k    hit_ratio\n",
      "---  -----------\n",
      "1    0.815059\n",
      "2    0.950303\n",
      "3    0.987978\n",
      "4    1\n",
      "\n",
      "Cross-Validation Metrics Summary: \n",
      "                         mean      sd           cv_1_valid    cv_2_valid\n",
      "-----------------------  --------  -----------  ------------  ------------\n",
      "accuracy                 0.815059  0.00159499   0.813931      0.816187\n",
      "err                      0.184941  0.00159499   0.186069      0.183813\n",
      "err_count                11906.5   101.116      11978         11835\n",
      "logloss                  0.549898  0.00320918   0.552167      0.547628\n",
      "max_per_class_error      0.806745  0.000146916  0.806849      0.806642\n",
      "mean_per_class_accuracy  0.610768  0.00231612   0.60913       0.612405\n",
      "mean_per_class_error     0.389232  0.00231612   0.39087       0.387595\n",
      "mse                      0.156853  0.0012114    0.157709      0.155996\n",
      "r2                       0.922351  0.000657155  0.921886      0.922816\n",
      "rmse                     0.396045  0.00152937   0.397126      0.394964\n",
      "\n",
      "Scoring History: \n",
      "    timestamp            duration          number_of_trees    training_rmse    training_logloss    training_classification_error    validation_rmse    validation_logloss    validation_classification_error\n",
      "--  -------------------  ----------------  -----------------  ---------------  ------------------  -------------------------------  -----------------  --------------------  ---------------------------------\n",
      "    2020-01-17 02:41:26  46.885 sec        0                  0.75             1.38629             0.561362                         0.75               1.38629               0.562079\n",
      "    2020-01-17 02:41:28  49.728 sec        1                  0.629129         0.997859            0.103549                         0.649152           1.06093               0.204158\n",
      "    2020-01-17 02:41:33  54.347 sec        3                  0.455383         0.611164            0.0699208                        0.523229           0.768957              0.189263\n",
      "    2020-01-17 02:41:38  59.433 sec        5                  0.344129         0.411155            0.0513979                        0.458789           0.639376              0.18647\n",
      "    2020-01-17 02:41:43  1 min  4.817 sec  7                  0.272607         0.292875            0.0372476                        0.426462           0.575773              0.183181\n",
      "    2020-01-17 02:41:49  1 min 10.510 sec  9                  0.223837         0.217481            0.0258077                        0.409778           0.543423              0.182126\n",
      "    2020-01-17 02:41:57  1 min 18.452 sec  12                 0.175763         0.150389            0.0141038                        0.397795           0.524025              0.181536\n",
      "    2020-01-17 02:42:09  1 min 30.719 sec  17                 0.128336         0.0959294           0.00451227                       0.389366           0.519643              0.179364\n",
      "    2020-01-17 02:42:18  1 min 39.319 sec  20                 0.110132         0.0787262           0.00208916                       0.386881           0.52232               0.177471\n",
      "\n",
      "Variable Importances: \n",
      "variable        relative_importance    scaled_importance    percentage\n",
      "--------------  ---------------------  -------------------  ------------\n",
      "miles           181938                 1                    0.388354\n",
      "avg_heart       74711.1                0.410641             0.159474\n",
      "var_heart       59196.5                0.325367             0.126358\n",
      "var_alt         48287.9                0.265409             0.103073\n",
      "min_alt         39417                  0.216651             0.0841373\n",
      "max_alt         33809.2                0.185828             0.0721672\n",
      "avg_alt         28049.7                0.154172             0.0598734\n",
      "gender.female   1894.46                0.0104127            0.0040438\n",
      "gender.male     912.089                0.00501319           0.00194689\n",
      "gender.unknown  266.55                 0.00146506           0.000568963\n",
      "std_heart       1.61542                8.87897e-06          3.44818e-06\n",
      "std_alt         0.341366               1.87628e-06          7.2866e-07"
     ]
    }
   ],
   "source": [
    "xgb"
   ]
  }
 ],
 "metadata": {
  "kernelspec": {
   "display_name": "PySpark",
   "language": "",
   "name": "pysparkkernel"
  },
  "language_info": {
   "codemirror_mode": {
    "name": "python",
    "version": 2
   },
   "mimetype": "text/x-python",
   "name": "pyspark",
   "pygments_lexer": "python2"
  }
 },
 "nbformat": 4,
 "nbformat_minor": 2
}
