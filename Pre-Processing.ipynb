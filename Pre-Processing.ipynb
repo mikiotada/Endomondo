{
 "cells": [
  {
   "cell_type": "markdown",
   "metadata": {},
   "source": [
    "# Processing Data"
   ]
  },
  {
   "cell_type": "code",
   "execution_count": 1,
   "metadata": {},
   "outputs": [
    {
     "data": {
      "application/vnd.jupyter.widget-view+json": {
       "model_id": "2f94b1424b164a1ca0de547e73740309",
       "version_major": 2,
       "version_minor": 0
      },
      "text/plain": [
       "VBox()"
      ]
     },
     "metadata": {},
     "output_type": "display_data"
    },
    {
     "name": "stdout",
     "output_type": "stream",
     "text": [
      "Starting Spark application\n"
     ]
    },
    {
     "data": {
      "text/html": [
       "<table>\n",
       "<tr><th>ID</th><th>YARN Application ID</th><th>Kind</th><th>State</th><th>Spark UI</th><th>Driver log</th><th>Current session?</th></tr><tr><td>9</td><td>application_1579045319375_0010</td><td>pyspark</td><td>idle</td><td><a target=\"_blank\" href=\"http://ip-172-31-45-125.us-west-2.compute.internal:20888/proxy/application_1579045319375_0010/\">Link</a></td><td><a target=\"_blank\" href=\"http://ip-172-31-32-224.us-west-2.compute.internal:8042/node/containerlogs/container_1579045319375_0010_01_000001/livy\">Link</a></td><td>✔</td></tr></table>"
      ],
      "text/plain": [
       "<IPython.core.display.HTML object>"
      ]
     },
     "metadata": {},
     "output_type": "display_data"
    },
    {
     "data": {
      "application/vnd.jupyter.widget-view+json": {
       "model_id": "",
       "version_major": 2,
       "version_minor": 0
      },
      "text/plain": [
       "FloatProgress(value=0.0, bar_style='info', description='Progress:', layout=Layout(height='25px', width='50%'),…"
      ]
     },
     "metadata": {},
     "output_type": "display_data"
    },
    {
     "name": "stdout",
     "output_type": "stream",
     "text": [
      "SparkSession available as 'spark'.\n"
     ]
    },
    {
     "data": {
      "application/vnd.jupyter.widget-view+json": {
       "model_id": "",
       "version_major": 2,
       "version_minor": 0
      },
      "text/plain": [
       "FloatProgress(value=0.0, bar_style='info', description='Progress:', layout=Layout(height='25px', width='50%'),…"
      ]
     },
     "metadata": {},
     "output_type": "display_data"
    }
   ],
   "source": [
    "from pyspark import SparkContext\n",
    "from pyspark.sql import SparkSession\n",
    "from math import radians, sin, cos, asin, sqrt\n",
    "import numpy as np\n",
    "\n",
    "sc = SparkContext.getOrCreate()\n",
    "ss = SparkSession.builder.getOrCreate()"
   ]
  },
  {
   "cell_type": "code",
   "execution_count": 2,
   "metadata": {},
   "outputs": [
    {
     "data": {
      "application/vnd.jupyter.widget-view+json": {
       "model_id": "9e9dd2cf4e724ca781079e473132693d",
       "version_major": 2,
       "version_minor": 0
      },
      "text/plain": [
       "VBox()"
      ]
     },
     "metadata": {},
     "output_type": "display_data"
    },
    {
     "data": {
      "application/vnd.jupyter.widget-view+json": {
       "model_id": "",
       "version_major": 2,
       "version_minor": 0
      },
      "text/plain": [
       "FloatProgress(value=0.0, bar_style='info', description='Progress:', layout=Layout(height='25px', width='50%'),…"
      ]
     },
     "metadata": {},
     "output_type": "display_data"
    }
   ],
   "source": [
    "# s3 access key"
   ]
  },
  {
   "cell_type": "code",
   "execution_count": 3,
   "metadata": {
    "scrolled": true
   },
   "outputs": [
    {
     "data": {
      "application/vnd.jupyter.widget-view+json": {
       "model_id": "0fa0e9fbb2f347179da45db446d3ad61",
       "version_major": 2,
       "version_minor": 0
      },
      "text/plain": [
       "VBox()"
      ]
     },
     "metadata": {},
     "output_type": "display_data"
    },
    {
     "data": {
      "application/vnd.jupyter.widget-view+json": {
       "model_id": "",
       "version_major": 2,
       "version_minor": 0
      },
      "text/plain": [
       "FloatProgress(value=0.0, bar_style='info', description='Progress:', layout=Layout(height='25px', width='50%'),…"
      ]
     },
     "metadata": {},
     "output_type": "display_data"
    }
   ],
   "source": [
    "endo_df = ss.read.json('s3://usfca-endomondo/endomondoHR_proper.json')"
   ]
  },
  {
   "cell_type": "code",
   "execution_count": 4,
   "metadata": {},
   "outputs": [
    {
     "data": {
      "application/vnd.jupyter.widget-view+json": {
       "model_id": "c2b01dc427384a99b70be5e5dabd232f",
       "version_major": 2,
       "version_minor": 0
      },
      "text/plain": [
       "VBox()"
      ]
     },
     "metadata": {},
     "output_type": "display_data"
    },
    {
     "data": {
      "application/vnd.jupyter.widget-view+json": {
       "model_id": "",
       "version_major": 2,
       "version_minor": 0
      },
      "text/plain": [
       "FloatProgress(value=0.0, bar_style='info', description='Progress:', layout=Layout(height='25px', width='50%'),…"
      ]
     },
     "metadata": {},
     "output_type": "display_data"
    },
    {
     "name": "stdout",
     "output_type": "stream",
     "text": [
      "root\n",
      " |-- altitude: array (nullable = true)\n",
      " |    |-- element: double (containsNull = true)\n",
      " |-- gender: string (nullable = true)\n",
      " |-- heart_rate: array (nullable = true)\n",
      " |    |-- element: long (containsNull = true)\n",
      " |-- id: long (nullable = true)\n",
      " |-- latitude: array (nullable = true)\n",
      " |    |-- element: double (containsNull = true)\n",
      " |-- longitude: array (nullable = true)\n",
      " |    |-- element: double (containsNull = true)\n",
      " |-- speed: array (nullable = true)\n",
      " |    |-- element: double (containsNull = true)\n",
      " |-- sport: string (nullable = true)\n",
      " |-- timestamp: array (nullable = true)\n",
      " |    |-- element: long (containsNull = true)\n",
      " |-- url: string (nullable = true)\n",
      " |-- userId: long (nullable = true)"
     ]
    }
   ],
   "source": [
    "endo_df.printSchema()"
   ]
  },
  {
   "cell_type": "code",
   "execution_count": 5,
   "metadata": {},
   "outputs": [
    {
     "data": {
      "application/vnd.jupyter.widget-view+json": {
       "model_id": "66a496d6c32840299f6b59df2687a566",
       "version_major": 2,
       "version_minor": 0
      },
      "text/plain": [
       "VBox()"
      ]
     },
     "metadata": {},
     "output_type": "display_data"
    },
    {
     "data": {
      "application/vnd.jupyter.widget-view+json": {
       "model_id": "",
       "version_major": 2,
       "version_minor": 0
      },
      "text/plain": [
       "FloatProgress(value=0.0, bar_style='info', description='Progress:', layout=Layout(height='25px', width='50%'),…"
      ]
     },
     "metadata": {},
     "output_type": "display_data"
    }
   ],
   "source": [
    "endo_df = endo_df.where(\"sport in ('bike', 'run', 'bike (transport)', 'mountain bike')\")"
   ]
  },
  {
   "cell_type": "code",
   "execution_count": 6,
   "metadata": {},
   "outputs": [
    {
     "data": {
      "application/vnd.jupyter.widget-view+json": {
       "model_id": "a1dbad051f814081bd68ebb21d70491c",
       "version_major": 2,
       "version_minor": 0
      },
      "text/plain": [
       "VBox()"
      ]
     },
     "metadata": {},
     "output_type": "display_data"
    },
    {
     "data": {
      "application/vnd.jupyter.widget-view+json": {
       "model_id": "",
       "version_major": 2,
       "version_minor": 0
      },
      "text/plain": [
       "FloatProgress(value=0.0, bar_style='info', description='Progress:', layout=Layout(height='25px', width='50%'),…"
      ]
     },
     "metadata": {},
     "output_type": "display_data"
    }
   ],
   "source": [
    "endo_rdd = endo_df.rdd"
   ]
  },
  {
   "cell_type": "code",
   "execution_count": 7,
   "metadata": {},
   "outputs": [
    {
     "data": {
      "application/vnd.jupyter.widget-view+json": {
       "model_id": "332c2d596b974cc48a334efafa6c0e5a",
       "version_major": 2,
       "version_minor": 0
      },
      "text/plain": [
       "VBox()"
      ]
     },
     "metadata": {},
     "output_type": "display_data"
    },
    {
     "data": {
      "application/vnd.jupyter.widget-view+json": {
       "model_id": "",
       "version_major": 2,
       "version_minor": 0
      },
      "text/plain": [
       "FloatProgress(value=0.0, bar_style='info', description='Progress:', layout=Layout(height='25px', width='50%'),…"
      ]
     },
     "metadata": {},
     "output_type": "display_data"
    }
   ],
   "source": [
    "def my_haversine(pos1, pos2):\n",
    "    \"\"\"\n",
    "    Calculate the great circle distance between two points\n",
    "    on the earth (specified in decimal degrees)\n",
    "    \"\"\"\n",
    "    # convert decimal degrees to radians\n",
    "    lon1, lat1 = pos1\n",
    "    lon2, lat2 = pos2\n",
    "    lon1, lat1, lon2, lat2 = map(radians, [lon1, lat1, lon2, lat2])    # haversine formula\n",
    "    dlon = lon2 - lon1\n",
    "    dlat = lat2 - lat1\n",
    "    a = sin(dlat/2)**2 + cos(lat1) * cos(lat2) * sin(dlon/2)**2\n",
    "    c = 2 * asin(sqrt(a))\n",
    "    r = 3956 # Radius of earth in kilometers. Use 3956 for miles\n",
    "    return c * r"
   ]
  },
  {
   "cell_type": "code",
   "execution_count": 8,
   "metadata": {},
   "outputs": [
    {
     "data": {
      "application/vnd.jupyter.widget-view+json": {
       "model_id": "1caf720618924d51860b1e9746717e38",
       "version_major": 2,
       "version_minor": 0
      },
      "text/plain": [
       "VBox()"
      ]
     },
     "metadata": {},
     "output_type": "display_data"
    },
    {
     "data": {
      "application/vnd.jupyter.widget-view+json": {
       "model_id": "",
       "version_major": 2,
       "version_minor": 0
      },
      "text/plain": [
       "FloatProgress(value=0.0, bar_style='info', description='Progress:', layout=Layout(height='25px', width='50%'),…"
      ]
     },
     "metadata": {},
     "output_type": "display_data"
    }
   ],
   "source": [
    "miles = (endo_rdd.map(lambda x: (x['id'], list(zip(x['latitude'], x['longitude']))))\n",
    " .mapValues(lambda x: [my_haversine(x[i], x[i+1]) for i in range(len(x)-1)])\n",
    " .mapValues(lambda x: sum(x)))"
   ]
  },
  {
   "cell_type": "code",
   "execution_count": 9,
   "metadata": {},
   "outputs": [
    {
     "data": {
      "application/vnd.jupyter.widget-view+json": {
       "model_id": "0df24e3816104e76ad3cf9bb20c60217",
       "version_major": 2,
       "version_minor": 0
      },
      "text/plain": [
       "VBox()"
      ]
     },
     "metadata": {},
     "output_type": "display_data"
    },
    {
     "data": {
      "application/vnd.jupyter.widget-view+json": {
       "model_id": "",
       "version_major": 2,
       "version_minor": 0
      },
      "text/plain": [
       "FloatProgress(value=0.0, bar_style='info', description='Progress:', layout=Layout(height='25px', width='50%'),…"
      ]
     },
     "metadata": {},
     "output_type": "display_data"
    }
   ],
   "source": [
    "miles_df = miles.toDF()"
   ]
  },
  {
   "cell_type": "code",
   "execution_count": 10,
   "metadata": {},
   "outputs": [
    {
     "data": {
      "application/vnd.jupyter.widget-view+json": {
       "model_id": "57d57d86ac204df4bfc6561f67287ea9",
       "version_major": 2,
       "version_minor": 0
      },
      "text/plain": [
       "VBox()"
      ]
     },
     "metadata": {},
     "output_type": "display_data"
    },
    {
     "data": {
      "application/vnd.jupyter.widget-view+json": {
       "model_id": "",
       "version_major": 2,
       "version_minor": 0
      },
      "text/plain": [
       "FloatProgress(value=0.0, bar_style='info', description='Progress:', layout=Layout(height='25px', width='50%'),…"
      ]
     },
     "metadata": {},
     "output_type": "display_data"
    }
   ],
   "source": [
    "miles_df = miles_df.withColumnRenamed(miles_df.columns[0], 'id').withColumnRenamed(miles_df.columns[1], 'miles')"
   ]
  },
  {
   "cell_type": "code",
   "execution_count": 11,
   "metadata": {},
   "outputs": [
    {
     "data": {
      "application/vnd.jupyter.widget-view+json": {
       "model_id": "6a35ef70bf63459cb10e8932bbdd1b13",
       "version_major": 2,
       "version_minor": 0
      },
      "text/plain": [
       "VBox()"
      ]
     },
     "metadata": {},
     "output_type": "display_data"
    },
    {
     "data": {
      "application/vnd.jupyter.widget-view+json": {
       "model_id": "",
       "version_major": 2,
       "version_minor": 0
      },
      "text/plain": [
       "FloatProgress(value=0.0, bar_style='info', description='Progress:', layout=Layout(height='25px', width='50%'),…"
      ]
     },
     "metadata": {},
     "output_type": "display_data"
    },
    {
     "name": "stdout",
     "output_type": "stream",
     "text": [
      "+---------+-----------------+\n",
      "|       id|            miles|\n",
      "+---------+-----------------+\n",
      "|396826535|52.29380964306281|\n",
      "+---------+-----------------+\n",
      "only showing top 1 row"
     ]
    }
   ],
   "source": [
    "miles_df.show(1)"
   ]
  },
  {
   "cell_type": "code",
   "execution_count": 12,
   "metadata": {},
   "outputs": [
    {
     "data": {
      "application/vnd.jupyter.widget-view+json": {
       "model_id": "7e2b9e74cf424d299f374c946176b717",
       "version_major": 2,
       "version_minor": 0
      },
      "text/plain": [
       "VBox()"
      ]
     },
     "metadata": {},
     "output_type": "display_data"
    },
    {
     "data": {
      "application/vnd.jupyter.widget-view+json": {
       "model_id": "",
       "version_major": 2,
       "version_minor": 0
      },
      "text/plain": [
       "FloatProgress(value=0.0, bar_style='info', description='Progress:', layout=Layout(height='25px', width='50%'),…"
      ]
     },
     "metadata": {},
     "output_type": "display_data"
    }
   ],
   "source": [
    "joined = endo_df.join(miles_df, 'id', 'inner')"
   ]
  },
  {
   "cell_type": "code",
   "execution_count": 13,
   "metadata": {},
   "outputs": [
    {
     "data": {
      "application/vnd.jupyter.widget-view+json": {
       "model_id": "3909b662864a4d13b6f10010bd13d692",
       "version_major": 2,
       "version_minor": 0
      },
      "text/plain": [
       "VBox()"
      ]
     },
     "metadata": {},
     "output_type": "display_data"
    },
    {
     "data": {
      "application/vnd.jupyter.widget-view+json": {
       "model_id": "",
       "version_major": 2,
       "version_minor": 0
      },
      "text/plain": [
       "FloatProgress(value=0.0, bar_style='info', description='Progress:', layout=Layout(height='25px', width='50%'),…"
      ]
     },
     "metadata": {},
     "output_type": "display_data"
    },
    {
     "name": "stdout",
     "output_type": "stream",
     "text": [
      "+-------+--------------------+------+--------------------+--------------------+--------------------+-----+-----+--------------------+--------------------+------+-----------------+\n",
      "|     id|            altitude|gender|          heart_rate|            latitude|           longitude|speed|sport|           timestamp|                 url|userId|            miles|\n",
      "+-------+--------------------+------+--------------------+--------------------+--------------------+-----+-----+--------------------+--------------------+------+-----------------+\n",
      "|9408771|[32.389, 32.556, ...|  male|[104, 115, 125, 1...|[56.235583, 56.23...|[9.08747, 9.08841...| null| bike|[1303313589, 1303...|https://www.endom...| 65547|58.48725698600932|\n",
      "+-------+--------------------+------+--------------------+--------------------+--------------------+-----+-----+--------------------+--------------------+------+-----------------+\n",
      "only showing top 1 row"
     ]
    }
   ],
   "source": [
    "joined.show(1)"
   ]
  },
  {
   "cell_type": "code",
   "execution_count": 14,
   "metadata": {},
   "outputs": [
    {
     "data": {
      "application/vnd.jupyter.widget-view+json": {
       "model_id": "695349cbfc8b4420b83ee54475a069fe",
       "version_major": 2,
       "version_minor": 0
      },
      "text/plain": [
       "VBox()"
      ]
     },
     "metadata": {},
     "output_type": "display_data"
    },
    {
     "data": {
      "application/vnd.jupyter.widget-view+json": {
       "model_id": "",
       "version_major": 2,
       "version_minor": 0
      },
      "text/plain": [
       "FloatProgress(value=0.0, bar_style='info', description='Progress:', layout=Layout(height='25px', width='50%'),…"
      ]
     },
     "metadata": {},
     "output_type": "display_data"
    },
    {
     "name": "stdout",
     "output_type": "stream",
     "text": [
      "root\n",
      " |-- id: long (nullable = true)\n",
      " |-- altitude: array (nullable = true)\n",
      " |    |-- element: double (containsNull = true)\n",
      " |-- gender: string (nullable = true)\n",
      " |-- heart_rate: array (nullable = true)\n",
      " |    |-- element: long (containsNull = true)\n",
      " |-- latitude: array (nullable = true)\n",
      " |    |-- element: double (containsNull = true)\n",
      " |-- longitude: array (nullable = true)\n",
      " |    |-- element: double (containsNull = true)\n",
      " |-- speed: array (nullable = true)\n",
      " |    |-- element: double (containsNull = true)\n",
      " |-- sport: string (nullable = true)\n",
      " |-- timestamp: array (nullable = true)\n",
      " |    |-- element: long (containsNull = true)\n",
      " |-- url: string (nullable = true)\n",
      " |-- userId: long (nullable = true)\n",
      " |-- miles: double (nullable = true)"
     ]
    }
   ],
   "source": [
    "joined.printSchema()"
   ]
  },
  {
   "cell_type": "code",
   "execution_count": 15,
   "metadata": {},
   "outputs": [
    {
     "data": {
      "application/vnd.jupyter.widget-view+json": {
       "model_id": "84d41bfa6f2c470084eb1e0b810b9fd6",
       "version_major": 2,
       "version_minor": 0
      },
      "text/plain": [
       "VBox()"
      ]
     },
     "metadata": {},
     "output_type": "display_data"
    },
    {
     "data": {
      "application/vnd.jupyter.widget-view+json": {
       "model_id": "",
       "version_major": 2,
       "version_minor": 0
      },
      "text/plain": [
       "FloatProgress(value=0.0, bar_style='info', description='Progress:', layout=Layout(height='25px', width='50%'),…"
      ]
     },
     "metadata": {},
     "output_type": "display_data"
    }
   ],
   "source": [
    "# sc.install_pypi_package('numpy')"
   ]
  },
  {
   "cell_type": "code",
   "execution_count": 16,
   "metadata": {},
   "outputs": [
    {
     "data": {
      "application/vnd.jupyter.widget-view+json": {
       "model_id": "d355f6043605442997d4c88b6ff305a8",
       "version_major": 2,
       "version_minor": 0
      },
      "text/plain": [
       "VBox()"
      ]
     },
     "metadata": {},
     "output_type": "display_data"
    },
    {
     "data": {
      "application/vnd.jupyter.widget-view+json": {
       "model_id": "",
       "version_major": 2,
       "version_minor": 0
      },
      "text/plain": [
       "FloatProgress(value=0.0, bar_style='info', description='Progress:', layout=Layout(height='25px', width='50%'),…"
      ]
     },
     "metadata": {},
     "output_type": "display_data"
    }
   ],
   "source": [
    "avg_heart_df = endo_rdd.map(lambda x: (x['id'], x['heart_rate'])).mapValues(lambda x: np.mean(x)).mapValues(lambda x: float(x))\n",
    "var_heart_df = endo_rdd.map(lambda x: (x['id'], x['heart_rate'])).mapValues(lambda x: np.var(x)).mapValues(lambda x: float(x))\n",
    "std_heart_df = endo_rdd.map(lambda x: (x['id'], x['heart_rate'])).mapValues(lambda x: np.std(x)).mapValues(lambda x: float(x))"
   ]
  },
  {
   "cell_type": "code",
   "execution_count": 17,
   "metadata": {},
   "outputs": [
    {
     "data": {
      "application/vnd.jupyter.widget-view+json": {
       "model_id": "e161198c836f4f27b4adaf2dc72ad4c6",
       "version_major": 2,
       "version_minor": 0
      },
      "text/plain": [
       "VBox()"
      ]
     },
     "metadata": {},
     "output_type": "display_data"
    },
    {
     "data": {
      "application/vnd.jupyter.widget-view+json": {
       "model_id": "",
       "version_major": 2,
       "version_minor": 0
      },
      "text/plain": [
       "FloatProgress(value=0.0, bar_style='info', description='Progress:', layout=Layout(height='25px', width='50%'),…"
      ]
     },
     "metadata": {},
     "output_type": "display_data"
    }
   ],
   "source": [
    "avg_heart_df = avg_heart_df.toDF()\n",
    "var_heart_df = var_heart_df.toDF()\n",
    "std_heart_df = std_heart_df.toDF()"
   ]
  },
  {
   "cell_type": "code",
   "execution_count": 18,
   "metadata": {},
   "outputs": [
    {
     "data": {
      "application/vnd.jupyter.widget-view+json": {
       "model_id": "ebefa08f513d44668c0b12b8eacfc854",
       "version_major": 2,
       "version_minor": 0
      },
      "text/plain": [
       "VBox()"
      ]
     },
     "metadata": {},
     "output_type": "display_data"
    },
    {
     "data": {
      "application/vnd.jupyter.widget-view+json": {
       "model_id": "",
       "version_major": 2,
       "version_minor": 0
      },
      "text/plain": [
       "FloatProgress(value=0.0, bar_style='info', description='Progress:', layout=Layout(height='25px', width='50%'),…"
      ]
     },
     "metadata": {},
     "output_type": "display_data"
    }
   ],
   "source": [
    "avg_heart_df = avg_heart_df.withColumnRenamed(avg_heart_df.columns[0], 'id').withColumnRenamed(avg_heart_df.columns[1], 'avg_heart')\n",
    "var_heart_df = var_heart_df.withColumnRenamed(var_heart_df.columns[0], 'id').withColumnRenamed(var_heart_df.columns[1], 'var_heart')\n",
    "std_heart_df = std_heart_df.withColumnRenamed(std_heart_df.columns[0], 'id').withColumnRenamed(std_heart_df.columns[1], 'std_heart')"
   ]
  },
  {
   "cell_type": "code",
   "execution_count": 19,
   "metadata": {},
   "outputs": [
    {
     "data": {
      "application/vnd.jupyter.widget-view+json": {
       "model_id": "12054e63730245378353fd00e742c93f",
       "version_major": 2,
       "version_minor": 0
      },
      "text/plain": [
       "VBox()"
      ]
     },
     "metadata": {},
     "output_type": "display_data"
    },
    {
     "data": {
      "application/vnd.jupyter.widget-view+json": {
       "model_id": "",
       "version_major": 2,
       "version_minor": 0
      },
      "text/plain": [
       "FloatProgress(value=0.0, bar_style='info', description='Progress:', layout=Layout(height='25px', width='50%'),…"
      ]
     },
     "metadata": {},
     "output_type": "display_data"
    }
   ],
   "source": [
    "joined = joined.join(avg_heart_df, 'id', 'inner')\n",
    "joined = joined.join(var_heart_df, 'id', 'inner')\n",
    "joined = joined.join(std_heart_df, 'id', 'inner')"
   ]
  },
  {
   "cell_type": "code",
   "execution_count": 20,
   "metadata": {},
   "outputs": [
    {
     "data": {
      "application/vnd.jupyter.widget-view+json": {
       "model_id": "330c580ef4b64c66985d41a9e54d41cf",
       "version_major": 2,
       "version_minor": 0
      },
      "text/plain": [
       "VBox()"
      ]
     },
     "metadata": {},
     "output_type": "display_data"
    },
    {
     "data": {
      "application/vnd.jupyter.widget-view+json": {
       "model_id": "",
       "version_major": 2,
       "version_minor": 0
      },
      "text/plain": [
       "FloatProgress(value=0.0, bar_style='info', description='Progress:', layout=Layout(height='25px', width='50%'),…"
      ]
     },
     "metadata": {},
     "output_type": "display_data"
    },
    {
     "name": "stdout",
     "output_type": "stream",
     "text": [
      "root\n",
      " |-- id: long (nullable = true)\n",
      " |-- altitude: array (nullable = true)\n",
      " |    |-- element: double (containsNull = true)\n",
      " |-- gender: string (nullable = true)\n",
      " |-- heart_rate: array (nullable = true)\n",
      " |    |-- element: long (containsNull = true)\n",
      " |-- latitude: array (nullable = true)\n",
      " |    |-- element: double (containsNull = true)\n",
      " |-- longitude: array (nullable = true)\n",
      " |    |-- element: double (containsNull = true)\n",
      " |-- speed: array (nullable = true)\n",
      " |    |-- element: double (containsNull = true)\n",
      " |-- sport: string (nullable = true)\n",
      " |-- timestamp: array (nullable = true)\n",
      " |    |-- element: long (containsNull = true)\n",
      " |-- url: string (nullable = true)\n",
      " |-- userId: long (nullable = true)\n",
      " |-- miles: double (nullable = true)\n",
      " |-- avg_heart: double (nullable = true)\n",
      " |-- var_heart: double (nullable = true)\n",
      " |-- std_heart: double (nullable = true)"
     ]
    }
   ],
   "source": [
    "joined.printSchema()"
   ]
  },
  {
   "cell_type": "code",
   "execution_count": 21,
   "metadata": {},
   "outputs": [
    {
     "data": {
      "application/vnd.jupyter.widget-view+json": {
       "model_id": "656d0f42e68f4976a8654798e6bf720e",
       "version_major": 2,
       "version_minor": 0
      },
      "text/plain": [
       "VBox()"
      ]
     },
     "metadata": {},
     "output_type": "display_data"
    },
    {
     "data": {
      "application/vnd.jupyter.widget-view+json": {
       "model_id": "",
       "version_major": 2,
       "version_minor": 0
      },
      "text/plain": [
       "FloatProgress(value=0.0, bar_style='info', description='Progress:', layout=Layout(height='25px', width='50%'),…"
      ]
     },
     "metadata": {},
     "output_type": "display_data"
    }
   ],
   "source": [
    "id_min_alt_df = (endo_rdd.map(lambda x: (x['id'], x['altitude']))\n",
    "               .mapValues(lambda x: np.min(x))\n",
    "               .mapValues(lambda x: float(x)).toDF())\n",
    "\n",
    "id_max_alt_df = (endo_rdd.map(lambda x: (x['id'], x['altitude']))\n",
    "               .mapValues(lambda x: np.max(x))\n",
    "               .mapValues(lambda x: float(x)).toDF())\n",
    "\n",
    "id_mean_alt_df = (endo_rdd.map(lambda x: (x['id'], x['altitude']))\n",
    "                .mapValues(lambda x: np.mean(x))\n",
    "                .mapValues(lambda x: float(x)).toDF())\n",
    "\n",
    "id_var_alt_df = (endo_rdd.map(lambda x: (x['id'], x['altitude']))\n",
    "                .mapValues(lambda x: np.var(x))\n",
    "                .mapValues(lambda x: float(x)).toDF())\n",
    "\n",
    "id_std_alt_df = (endo_rdd.map(lambda x: (x['id'], x['altitude']))\n",
    "                .mapValues(lambda x: np.std(x))\n",
    "                .mapValues(lambda x: float(x)).toDF())"
   ]
  },
  {
   "cell_type": "code",
   "execution_count": 22,
   "metadata": {},
   "outputs": [
    {
     "data": {
      "application/vnd.jupyter.widget-view+json": {
       "model_id": "5c339d2c2ba34d8ca63b337b69cd0d67",
       "version_major": 2,
       "version_minor": 0
      },
      "text/plain": [
       "VBox()"
      ]
     },
     "metadata": {},
     "output_type": "display_data"
    },
    {
     "data": {
      "application/vnd.jupyter.widget-view+json": {
       "model_id": "",
       "version_major": 2,
       "version_minor": 0
      },
      "text/plain": [
       "FloatProgress(value=0.0, bar_style='info', description='Progress:', layout=Layout(height='25px', width='50%'),…"
      ]
     },
     "metadata": {},
     "output_type": "display_data"
    }
   ],
   "source": [
    "id_min_alt_df = id_min_alt_df.withColumnRenamed(id_min_alt_df.columns[0], 'id').withColumnRenamed(id_min_alt_df.columns[1], 'min_alt')\n",
    "id_max_alt_df = id_max_alt_df.withColumnRenamed(id_max_alt_df.columns[0], 'id').withColumnRenamed(id_max_alt_df.columns[1], 'max_alt')\n",
    "id_mean_alt_df = id_mean_alt_df.withColumnRenamed(id_mean_alt_df.columns[0], 'id').withColumnRenamed(id_mean_alt_df.columns[1], 'avg_alt')\n",
    "id_var_alt_df = id_var_alt_df.withColumnRenamed(id_var_alt_df.columns[0], 'id').withColumnRenamed(id_var_alt_df.columns[1], 'var_alt')\n",
    "id_std_alt_df = id_std_alt_df.withColumnRenamed(id_std_alt_df.columns[0], 'id').withColumnRenamed(id_std_alt_df.columns[1], 'std_alt')\n",
    "\n"
   ]
  },
  {
   "cell_type": "code",
   "execution_count": 23,
   "metadata": {},
   "outputs": [
    {
     "data": {
      "application/vnd.jupyter.widget-view+json": {
       "model_id": "9e2e9cef586c449392c950ce17f0e274",
       "version_major": 2,
       "version_minor": 0
      },
      "text/plain": [
       "VBox()"
      ]
     },
     "metadata": {},
     "output_type": "display_data"
    },
    {
     "data": {
      "application/vnd.jupyter.widget-view+json": {
       "model_id": "",
       "version_major": 2,
       "version_minor": 0
      },
      "text/plain": [
       "FloatProgress(value=0.0, bar_style='info', description='Progress:', layout=Layout(height='25px', width='50%'),…"
      ]
     },
     "metadata": {},
     "output_type": "display_data"
    }
   ],
   "source": [
    "joined = joined.join(id_min_alt_df, 'id', 'inner')\n",
    "joined = joined.join(id_max_alt_df, 'id', 'inner')\n",
    "joined = joined.join(id_mean_alt_df, 'id', 'inner')\n",
    "joined = joined.join(id_var_alt_df, 'id', 'inner')\n",
    "joined = joined.join(id_std_alt_df, 'id', 'inner')\n"
   ]
  },
  {
   "cell_type": "code",
   "execution_count": 24,
   "metadata": {},
   "outputs": [
    {
     "data": {
      "application/vnd.jupyter.widget-view+json": {
       "model_id": "b6f727089d56427fa50ffa9bc58c0aef",
       "version_major": 2,
       "version_minor": 0
      },
      "text/plain": [
       "VBox()"
      ]
     },
     "metadata": {},
     "output_type": "display_data"
    },
    {
     "data": {
      "application/vnd.jupyter.widget-view+json": {
       "model_id": "",
       "version_major": 2,
       "version_minor": 0
      },
      "text/plain": [
       "FloatProgress(value=0.0, bar_style='info', description='Progress:', layout=Layout(height='25px', width='50%'),…"
      ]
     },
     "metadata": {},
     "output_type": "display_data"
    },
    {
     "name": "stdout",
     "output_type": "stream",
     "text": [
      "root\n",
      " |-- id: long (nullable = true)\n",
      " |-- altitude: array (nullable = true)\n",
      " |    |-- element: double (containsNull = true)\n",
      " |-- gender: string (nullable = true)\n",
      " |-- heart_rate: array (nullable = true)\n",
      " |    |-- element: long (containsNull = true)\n",
      " |-- latitude: array (nullable = true)\n",
      " |    |-- element: double (containsNull = true)\n",
      " |-- longitude: array (nullable = true)\n",
      " |    |-- element: double (containsNull = true)\n",
      " |-- speed: array (nullable = true)\n",
      " |    |-- element: double (containsNull = true)\n",
      " |-- sport: string (nullable = true)\n",
      " |-- timestamp: array (nullable = true)\n",
      " |    |-- element: long (containsNull = true)\n",
      " |-- url: string (nullable = true)\n",
      " |-- userId: long (nullable = true)\n",
      " |-- miles: double (nullable = true)\n",
      " |-- avg_heart: double (nullable = true)\n",
      " |-- var_heart: double (nullable = true)\n",
      " |-- std_heart: double (nullable = true)\n",
      " |-- min_alt: double (nullable = true)\n",
      " |-- max_alt: double (nullable = true)\n",
      " |-- avg_alt: double (nullable = true)\n",
      " |-- var_alt: double (nullable = true)\n",
      " |-- std_alt: double (nullable = true)"
     ]
    }
   ],
   "source": [
    "joined.printSchema()"
   ]
  },
  {
   "cell_type": "code",
   "execution_count": 25,
   "metadata": {},
   "outputs": [
    {
     "data": {
      "application/vnd.jupyter.widget-view+json": {
       "model_id": "72fddb56e5574e24b6fc3f2520576ba5",
       "version_major": 2,
       "version_minor": 0
      },
      "text/plain": [
       "VBox()"
      ]
     },
     "metadata": {},
     "output_type": "display_data"
    },
    {
     "data": {
      "application/vnd.jupyter.widget-view+json": {
       "model_id": "",
       "version_major": 2,
       "version_minor": 0
      },
      "text/plain": [
       "FloatProgress(value=0.0, bar_style='info', description='Progress:', layout=Layout(height='25px', width='50%'),…"
      ]
     },
     "metadata": {},
     "output_type": "display_data"
    }
   ],
   "source": [
    "joined = joined.drop('latitude', 'longitude', 'speed', 'url', 'userId', 'altitude', 'heart_rate')"
   ]
  },
  {
   "cell_type": "markdown",
   "metadata": {},
   "source": [
    "# Write to HDFS"
   ]
  },
  {
   "cell_type": "code",
   "execution_count": 28,
   "metadata": {},
   "outputs": [
    {
     "data": {
      "application/vnd.jupyter.widget-view+json": {
       "model_id": "371730c18c764478a0e6ae8d60ef8fba",
       "version_major": 2,
       "version_minor": 0
      },
      "text/plain": [
       "VBox()"
      ]
     },
     "metadata": {},
     "output_type": "display_data"
    },
    {
     "data": {
      "application/vnd.jupyter.widget-view+json": {
       "model_id": "",
       "version_major": 2,
       "version_minor": 0
      },
      "text/plain": [
       "FloatProgress(value=0.0, bar_style='info', description='Progress:', layout=Layout(height='25px', width='50%'),…"
      ]
     },
     "metadata": {},
     "output_type": "display_data"
    },
    {
     "name": "stdout",
     "output_type": "stream",
     "text": [
      "+-------+------+-----+--------------------+-----------------+---------+----------+------------------+-------+-------+---------+----------------+------------------+\n",
      "|     id|gender|sport|           timestamp|            miles|avg_heart| var_heart|         std_heart|min_alt|max_alt|  avg_alt|         var_alt|           std_alt|\n",
      "+-------+------+-----+--------------------+-----------------+---------+----------+------------------+-------+-------+---------+----------------+------------------+\n",
      "|9408771|  male| bike|[1303313589, 1303...|58.48725698600932|  130.674|290.511724|17.044404477716434| 27.841| 86.003|57.097864|226.418976249504|15.047224868709312|\n",
      "+-------+------+-----+--------------------+-----------------+---------+----------+------------------+-------+-------+---------+----------------+------------------+\n",
      "only showing top 1 row"
     ]
    }
   ],
   "source": [
    "joined.show(1)"
   ]
  },
  {
   "cell_type": "code",
   "execution_count": 29,
   "metadata": {
    "scrolled": false
   },
   "outputs": [
    {
     "data": {
      "application/vnd.jupyter.widget-view+json": {
       "model_id": "c1c885da02d2465f85ea4fa0e7ae83f4",
       "version_major": 2,
       "version_minor": 0
      },
      "text/plain": [
       "VBox()"
      ]
     },
     "metadata": {},
     "output_type": "display_data"
    },
    {
     "data": {
      "application/vnd.jupyter.widget-view+json": {
       "model_id": "",
       "version_major": 2,
       "version_minor": 0
      },
      "text/plain": [
       "FloatProgress(value=0.0, bar_style='info', description='Progress:', layout=Layout(height='25px', width='50%'),…"
      ]
     },
     "metadata": {},
     "output_type": "display_data"
    }
   ],
   "source": [
    "joined.write.save(\"s3://usfca-endomondo/processed_data\", format='parquet', mode='append')"
   ]
  },
  {
   "cell_type": "markdown",
   "metadata": {},
   "source": [
    "# Read from HDFS"
   ]
  },
  {
   "cell_type": "code",
   "execution_count": 30,
   "metadata": {},
   "outputs": [
    {
     "data": {
      "application/vnd.jupyter.widget-view+json": {
       "model_id": "ef21fec62a154fd0829f0ff3f833d0ce",
       "version_major": 2,
       "version_minor": 0
      },
      "text/plain": [
       "VBox()"
      ]
     },
     "metadata": {},
     "output_type": "display_data"
    },
    {
     "data": {
      "application/vnd.jupyter.widget-view+json": {
       "model_id": "",
       "version_major": 2,
       "version_minor": 0
      },
      "text/plain": [
       "FloatProgress(value=0.0, bar_style='info', description='Progress:', layout=Layout(height='25px', width='50%'),…"
      ]
     },
     "metadata": {},
     "output_type": "display_data"
    }
   ],
   "source": [
    "from pyspark.sql import SQLContext\n",
    "sqlContext = SQLContext(sc)\n",
    "data = sqlContext.read.format('parquet').load(\"s3://usfca-endomondo/processed_data\") "
   ]
  },
  {
   "cell_type": "code",
   "execution_count": 31,
   "metadata": {},
   "outputs": [
    {
     "data": {
      "application/vnd.jupyter.widget-view+json": {
       "model_id": "aa71fbeb06b84f1dadee84f49726880b",
       "version_major": 2,
       "version_minor": 0
      },
      "text/plain": [
       "VBox()"
      ]
     },
     "metadata": {},
     "output_type": "display_data"
    },
    {
     "data": {
      "application/vnd.jupyter.widget-view+json": {
       "model_id": "",
       "version_major": 2,
       "version_minor": 0
      },
      "text/plain": [
       "FloatProgress(value=0.0, bar_style='info', description='Progress:', layout=Layout(height='25px', width='50%'),…"
      ]
     },
     "metadata": {},
     "output_type": "display_data"
    },
    {
     "name": "stdout",
     "output_type": "stream",
     "text": [
      "+--------+------+-------------+--------------------+------------------+---------+------------------+------------------+-------+-------+------------------+------------------+------------------+\n",
      "|      id|gender|        sport|           timestamp|             miles|avg_heart|         var_heart|         std_heart|min_alt|max_alt|           avg_alt|           var_alt|           std_alt|\n",
      "+--------+------+-------------+--------------------+------------------+---------+------------------+------------------+-------+-------+------------------+------------------+------------------+\n",
      "| 7864389|  male|         bike|[1300766553, 1300...|20.284106160771454|  135.554|        171.915084|13.111639256782503|704.354|760.232| 733.4767239999999|144.97629998782398|12.040610449135208|\n",
      "|17091626|  male|         bike|[1311619064, 1311...| 42.29974076736979|  143.166|155.75844400000003|12.480322271480013|   86.2|  131.0|106.88680000000001| 87.74198575999999|  9.36706921934497|\n",
      "|18006064|  male|         bike|[1312312890, 1312...|26.830995813147755|  102.742|145.77543599999998|12.073749873175275| 45.334|102.482|         77.951708|159.59917379873602|12.633256658468394|\n",
      "|20463264|  male|         bike|[1314301273, 1314...|25.710420897603274|  156.726|        362.270924|19.033415983474956|449.982|954.545|        791.844406|28012.420026629166|167.36911312016076|\n",
      "|20730506|  male|         bike|[1314544190, 1314...| 54.48970734114655|  148.928|        511.530816|  22.6170470221026|   33.8|   65.0|           50.5192| 45.77875136000001| 6.765999657109067|\n",
      "|22123018|  male|         bike|[1286655415, 1286...|13.931839221521637|  115.854|         81.288684| 9.016023735549947| 57.801|104.631|         79.642978|116.21054784151599|10.780099621131336|\n",
      "|23162316|  male|         bike|[1316171909, 1316...|17.017084150208863|  158.886|        111.717004| 10.56962648346667|   10.2|   42.4|27.089599999999997|63.123651839999994| 7.945039448611944|\n",
      "|24483993|  male|          run|[1317359607, 1317...| 5.809063919088311|  161.842|        603.941036|24.575211820043386|  717.6|  771.4| 758.5532000000001| 73.67740976000007| 8.583554610998876|\n",
      "|24819177|  male|          run|[1317774942, 1317...| 7.107456363672245|  139.632|        184.848576|13.595902912274713|  102.4|  147.0|          124.1716|      138.36711344|11.762955132108598|\n",
      "|27393040|  male|         bike|[1312142837, 1312...| 27.18168785672125|  144.748|         86.384496| 9.294326011067183|   34.6|   68.2|50.500400000000006| 97.11959983999999|  9.85492769329131|\n",
      "|29206491|  male|         bike|[1321123175, 1321...| 39.70106534547533|  138.386|        329.893004|18.162956917858942| 22.643|396.625|        143.929592|10248.576838133537|101.23525491711638|\n",
      "|32209550|  male|          run|[1325005836, 1325...|  9.98027482187126|   159.07|          435.9571|20.879585723859563|   -1.6|   35.0|             6.926|         58.083724| 7.621267873523407|\n",
      "|32857676|  male|         bike|[1268848535, 1268...|20.491381996298013|  159.898|201.14359600000003|14.182510215050085|165.591|276.794|        229.269442| 942.8682836186359|30.706160352910228|\n",
      "|34572550|  male|         bike|[1322969247, 1322...| 7.144452426549485|  140.676|54.267024000000006| 7.366615505101376|171.252|203.456|190.88691000000003|20.756219217900004|  4.55589938627929|\n",
      "|38121933|  male|mountain bike|[1329362100, 1329...| 4.031108419410647|  133.092|        695.779536|26.377633252435672| 34.765| 59.496|         46.676386|   31.250643353004| 5.590227486695332|\n",
      "|39914728|  male|         bike|[1290346120, 1290...|37.466976639118926|  129.852|        134.886096|11.614047356541992|  5.167|156.753|         43.534514| 1034.512956433804| 32.16384548579047|\n",
      "|39916076|  male|         bike|[1271335640, 1271...| 46.28449772217796|  118.742|        194.639436|13.951323808155268| 19.143| 87.543|         37.048044|277.34352002606397|16.653633838476935|\n",
      "|40032864|  male|mountain bike|[1330564527, 1330...| 36.59714552721355|  141.688|473.19465600000007| 21.75303785681439| 14.179| 34.088|          23.89284|     21.6546194344| 4.653452420988099|\n",
      "|40730351|  male|         bike|[1330817591, 1330...|21.333106935783047|  130.044|        153.786064|12.401050923208082|  5.023| 51.992|         19.667872|   80.479555063616|  8.97103979835203|\n",
      "|41686061|  male|          run|[1331255094, 1331...| 6.334581157101737|  161.406|        262.605164|16.205096852533774|  -89.0|   40.2|      15.319199136|111.27813336118739|10.548845119783842|\n",
      "+--------+------+-------------+--------------------+------------------+---------+------------------+------------------+-------+-------+------------------+------------------+------------------+\n",
      "only showing top 20 rows"
     ]
    }
   ],
   "source": [
    "data.show()"
   ]
  }
 ],
 "metadata": {
  "kernelspec": {
   "display_name": "PySpark",
   "language": "",
   "name": "pysparkkernel"
  },
  "language_info": {
   "codemirror_mode": {
    "name": "python",
    "version": 2
   },
   "mimetype": "text/x-python",
   "name": "pyspark",
   "pygments_lexer": "python2"
  },
  "latex_envs": {
   "LaTeX_envs_menu_present": true,
   "autoclose": true,
   "autocomplete": true,
   "bibliofile": "biblio.bib",
   "cite_by": "apalike",
   "current_citInitial": 1,
   "eqLabelWithNumbers": true,
   "eqNumInitial": 1,
   "hotkeys": {
    "equation": "Ctrl-E",
    "itemize": "Ctrl-I"
   },
   "labels_anchors": false,
   "latex_user_defs": false,
   "report_style_numbering": false,
   "user_envs_cfg": false
  }
 },
 "nbformat": 4,
 "nbformat_minor": 2
}
